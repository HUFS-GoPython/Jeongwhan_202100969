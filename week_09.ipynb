{
 "cells": [
  {
   "cell_type": "code",
   "execution_count": null,
   "id": "b680e709-ca33-49ab-a00e-789b25174b99",
   "metadata": {},
   "outputs": [],
   "source": [
    "#오늘 : 딕셔너리 and 세트"
   ]
  },
  {
   "cell_type": "markdown",
   "id": "f88c8ccd-46aa-4163-96bb-b1957af1e5c6",
   "metadata": {},
   "source": [
    "### Dictionary\n",
    "- 영어 사전이라고 생각. (단어:뜻 형태)\n",
    "- 키 : 값\n",
    "- 순서가 없음 => 오프셋(인덱스)이 없음\n",
    "- 가변 객체 (수정, 추가, 삭제 가능)\n",
    "- Type : dict, dict()\n",
    "- {k1: v1, k2: v2, ... }\n",
    "- value에는 리스트, 튜플, 딕셔너리 다 들어갈 수 있음"
   ]
  },
  {
   "cell_type": "code",
   "execution_count": 1,
   "id": "9a7bd2bc-00fc-430a-a9c4-6e9a3ce8eaff",
   "metadata": {},
   "outputs": [
    {
     "data": {
      "text/plain": [
       "{}"
      ]
     },
     "execution_count": 1,
     "metadata": {},
     "output_type": "execute_result"
    }
   ],
   "source": [
    "empty=dict()\n",
    "empty"
   ]
  },
  {
   "cell_type": "code",
   "execution_count": 2,
   "id": "6b10d605-95e2-4cc3-b152-a6218cafa633",
   "metadata": {},
   "outputs": [
    {
     "data": {
      "text/plain": [
       "{'first': 'vile', 'middle': 'E', 'last': 'coyote'}"
      ]
     },
     "execution_count": 2,
     "metadata": {},
     "output_type": "execute_result"
    }
   ],
   "source": [
    "# ex)\n",
    "customer = {'first' : 'vile', 'middle':'E', 'last':'coyote'}\n",
    "customer"
   ]
  },
  {
   "cell_type": "code",
   "execution_count": 52,
   "id": "c26ca125-f40a-4be9-8618-c2c0cd73d3d7",
   "metadata": {},
   "outputs": [],
   "source": [
    "custmoer = dict(first='wile', middle='F')\n",
    "# key에 '' 안 서도 됨"
   ]
  },
  {
   "cell_type": "code",
   "execution_count": 7,
   "id": "8b561a1f-2ba3-4694-bc2d-74fb4950ec07",
   "metadata": {},
   "outputs": [
    {
     "data": {
      "text/plain": [
       "{'이름': '제임스', '학번': '202201', '학과': '경영학과'}"
      ]
     },
     "execution_count": 7,
     "metadata": {},
     "output_type": "execute_result"
    }
   ],
   "source": [
    "#출석부 딕셔너리 만들기\n",
    "\"\"\"\n",
    "이름, 학번, 학과\n",
    "제임스 202201 경영학과\n",
    "줄리엣 202202 아랍어과\n",
    "로버트 202203 ELLT과\n",
    "\n",
    "\"\"\"\n",
    "student1_info={'이름':'제임스', '학번':'202201', '학과':'경영학과'}\n",
    "student2_info={'이름':'줄리엣', '학번':'202202', '학과':'아랍어과'}\n",
    "student3_info={'이름':'로버트', '학번':'202203', '학과':'ELLT과'}\n",
    "\n",
    "student1_info"
   ]
  },
  {
   "cell_type": "code",
   "execution_count": 10,
   "id": "94ecef64-b978-4355-9175-6a4e8ce96830",
   "metadata": {},
   "outputs": [
    {
     "ename": "SyntaxError",
     "evalue": "expression cannot contain assignment, perhaps you meant \"==\"? (Temp/ipykernel_20012/3585869493.py, line 2)",
     "output_type": "error",
     "traceback": [
      "\u001b[1;36m  File \u001b[1;32m\"C:\\Users\\dwin3\\AppData\\Local\\Temp/ipykernel_20012/3585869493.py\"\u001b[1;36m, line \u001b[1;32m2\u001b[0m\n\u001b[1;33m    student = dict(202201 = ['제임스','경영학과'])\u001b[0m\n\u001b[1;37m                   ^\u001b[0m\n\u001b[1;31mSyntaxError\u001b[0m\u001b[1;31m:\u001b[0m expression cannot contain assignment, perhaps you meant \"==\"?\n"
     ]
    }
   ],
   "source": [
    "#아아, 이런식...\n",
    "student = dict(202201 = ['제임스','경영학과'])"
   ]
  },
  {
   "cell_type": "markdown",
   "id": "6b861caa-2926-4bb9-aa90-696a0cc75dfa",
   "metadata": {},
   "source": [
    "### 형변환"
   ]
  },
  {
   "cell_type": "code",
   "execution_count": 11,
   "id": "97ab3121-6c44-4831-80e5-80c201a15204",
   "metadata": {},
   "outputs": [
    {
     "data": {
      "text/plain": [
       "{20221: [], 3: 4, 5: 6}"
      ]
     },
     "execution_count": 11,
     "metadata": {},
     "output_type": "execute_result"
    }
   ],
   "source": [
    "#dict()\n",
    "ex1 = [[20221,[]],[3,4],[5,6]]\n",
    "dict(ex1)"
   ]
  },
  {
   "cell_type": "code",
   "execution_count": 12,
   "id": "e3e4eb77-1d4f-4a4e-91e7-6512789a4908",
   "metadata": {},
   "outputs": [
    {
     "data": {
      "text/plain": [
       "{1: 2, 3: 4, 5: 6}"
      ]
     },
     "execution_count": 12,
     "metadata": {},
     "output_type": "execute_result"
    }
   ],
   "source": [
    "ex2 = [(1,2),(3,4),(5,6)]\n",
    "dict(ex2)"
   ]
  },
  {
   "cell_type": "code",
   "execution_count": 13,
   "id": "9b106e71-4ea3-49e9-9c14-3d66fe20ef77",
   "metadata": {},
   "outputs": [
    {
     "ename": "ValueError",
     "evalue": "dictionary update sequence element #0 has length 4; 2 is required",
     "output_type": "error",
     "traceback": [
      "\u001b[1;31m---------------------------------------------------------------------------\u001b[0m",
      "\u001b[1;31mValueError\u001b[0m                                Traceback (most recent call last)",
      "\u001b[1;32m~\\AppData\\Local\\Temp/ipykernel_20012/1952004354.py\u001b[0m in \u001b[0;36m<module>\u001b[1;34m\u001b[0m\n\u001b[0;32m      1\u001b[0m \u001b[0mex3\u001b[0m \u001b[1;33m=\u001b[0m \u001b[1;33m[\u001b[0m\u001b[1;34m'abdd'\u001b[0m\u001b[1;33m,\u001b[0m\u001b[1;34m'bcdd'\u001b[0m\u001b[1;33m,\u001b[0m\u001b[1;34m'cddd'\u001b[0m\u001b[1;33m]\u001b[0m\u001b[1;33m\u001b[0m\u001b[1;33m\u001b[0m\u001b[0m\n\u001b[1;32m----> 2\u001b[1;33m \u001b[0mdict\u001b[0m\u001b[1;33m(\u001b[0m\u001b[0mex3\u001b[0m\u001b[1;33m)\u001b[0m\u001b[1;33m\u001b[0m\u001b[1;33m\u001b[0m\u001b[0m\n\u001b[0m",
      "\u001b[1;31mValueError\u001b[0m: dictionary update sequence element #0 has length 4; 2 is required"
     ]
    }
   ],
   "source": [
    "ex3 = ['abdd','bcdd','cddd']\n",
    "dict(ex3)"
   ]
  },
  {
   "cell_type": "markdown",
   "id": "2c30799b-db9a-4028-8996-96bde99b77f9",
   "metadata": {},
   "source": [
    "#### 항목변경\n",
    "\"\"\"\"\"\"\"\"\"\"\"\n",
    "\"\"\"\"\"\"\"\"\"\""
   ]
  },
  {
   "cell_type": "code",
   "execution_count": 15,
   "id": "bad334d3-8e6d-49f9-a225-4553f5bb7996",
   "metadata": {},
   "outputs": [],
   "source": [
    "pythons = {\n",
    "    'Chapman':'Graham',\n",
    "    'Cleese':'Kohn',\n",
    "    'Idle':'Eric',\n",
    "    'Jones':'Terry',\n",
    "    'Palin':'Michael'\n",
    "}"
   ]
  },
  {
   "cell_type": "code",
   "execution_count": 17,
   "id": "b093b92e-8020-46df-b55f-65dff31a2ec5",
   "metadata": {},
   "outputs": [
    {
     "data": {
      "text/plain": [
       "'Eric'"
      ]
     },
     "execution_count": 17,
     "metadata": {},
     "output_type": "execute_result"
    }
   ],
   "source": [
    "#idle 찾고 싶다\n",
    "pythons['Idle']"
   ]
  },
  {
   "cell_type": "code",
   "execution_count": 19,
   "id": "aee269cf-8ee5-42c0-86c9-5a5561b53a71",
   "metadata": {},
   "outputs": [
    {
     "ename": "KeyError",
     "evalue": "0",
     "output_type": "error",
     "traceback": [
      "\u001b[1;31m---------------------------------------------------------------------------\u001b[0m",
      "\u001b[1;31mKeyError\u001b[0m                                  Traceback (most recent call last)",
      "\u001b[1;32m~\\AppData\\Local\\Temp/ipykernel_20012/1325125230.py\u001b[0m in \u001b[0;36m<module>\u001b[1;34m\u001b[0m\n\u001b[1;32m----> 1\u001b[1;33m \u001b[0mpythons\u001b[0m\u001b[1;33m[\u001b[0m\u001b[1;36m0\u001b[0m\u001b[1;33m]\u001b[0m\u001b[1;33m\u001b[0m\u001b[1;33m\u001b[0m\u001b[0m\n\u001b[0m",
      "\u001b[1;31mKeyError\u001b[0m: 0"
     ]
    }
   ],
   "source": [
    "pythons[0]"
   ]
  },
  {
   "cell_type": "code",
   "execution_count": 20,
   "id": "205748c0-bb65-40a2-9465-b2b325bdc193",
   "metadata": {},
   "outputs": [
    {
     "data": {
      "text/plain": [
       "{'Chapman': 'Graham',\n",
       " 'Cleese': 'Kohn',\n",
       " 'Idle': 'Erica',\n",
       " 'Jones': 'Terry',\n",
       " 'Palin': 'Michael'}"
      ]
     },
     "execution_count": 20,
     "metadata": {},
     "output_type": "execute_result"
    }
   ],
   "source": [
    "pythons['Idle']='Erica'\n",
    "pythons"
   ]
  },
  {
   "cell_type": "code",
   "execution_count": 21,
   "id": "6b892598-899b-49cf-badc-f7bf2c70acb4",
   "metadata": {},
   "outputs": [],
   "source": [
    "pythons['Palin']='Josh'"
   ]
  },
  {
   "cell_type": "code",
   "execution_count": 22,
   "id": "54b8a3fb-4581-460e-b48b-5854bc7a40e1",
   "metadata": {},
   "outputs": [
    {
     "data": {
      "text/plain": [
       "{'Chapman': 'Graham',\n",
       " 'Cleese': 'Kohn',\n",
       " 'Idle': 'Erica',\n",
       " 'Jones': 'Terry',\n",
       " 'Palin': 'Josh'}"
      ]
     },
     "execution_count": 22,
     "metadata": {},
     "output_type": "execute_result"
    }
   ],
   "source": [
    "pythons # 중복 안됨. 팔린 없는줄알고추가했다? 얄짤없이 변경"
   ]
  },
  {
   "cell_type": "code",
   "execution_count": 26,
   "id": "462ec0cb-f0cc-4ee5-99db-19776549a6a0",
   "metadata": {},
   "outputs": [
    {
     "ename": "KeyError",
     "evalue": "'Lee'",
     "output_type": "error",
     "traceback": [
      "\u001b[1;31m---------------------------------------------------------------------------\u001b[0m",
      "\u001b[1;31mKeyError\u001b[0m                                  Traceback (most recent call last)",
      "\u001b[1;32m~\\AppData\\Local\\Temp/ipykernel_20012/3641084791.py\u001b[0m in \u001b[0;36m<module>\u001b[1;34m\u001b[0m\n\u001b[0;32m      1\u001b[0m \u001b[1;31m# 밸류 찾는법 이러면 오류 뜨니까 멤버십 함수로 확인 후 보통 사용\u001b[0m\u001b[1;33m\u001b[0m\u001b[1;33m\u001b[0m\u001b[0m\n\u001b[1;32m----> 2\u001b[1;33m \u001b[0mpythons\u001b[0m\u001b[1;33m[\u001b[0m\u001b[1;34m'Lee'\u001b[0m\u001b[1;33m]\u001b[0m\u001b[1;33m\u001b[0m\u001b[1;33m\u001b[0m\u001b[0m\n\u001b[0m",
      "\u001b[1;31mKeyError\u001b[0m: 'Lee'"
     ]
    }
   ],
   "source": [
    "# 밸류 찾는법 이러면 오류 뜨니까 멤버십 함수로 확인 후 보통 사용\n",
    "pythons['Lee']"
   ]
  },
  {
   "cell_type": "code",
   "execution_count": 27,
   "id": "03b72a57-df59-4860-bcf6-08634c96af8c",
   "metadata": {},
   "outputs": [
    {
     "data": {
      "text/plain": [
       "False"
      ]
     },
     "execution_count": 27,
     "metadata": {},
     "output_type": "execute_result"
    }
   ],
   "source": [
    "'Lee' in pythons"
   ]
  },
  {
   "cell_type": "code",
   "execution_count": 28,
   "id": "5964e194-99cb-47e9-903b-2c05da1e9e5b",
   "metadata": {},
   "outputs": [],
   "source": [
    "pythons.get('Lee')"
   ]
  },
  {
   "cell_type": "code",
   "execution_count": 30,
   "id": "77b51961-032d-4f29-ac79-2eeebb6e047a",
   "metadata": {},
   "outputs": [
    {
     "data": {
      "text/plain": [
       "'Josh'"
      ]
     },
     "execution_count": 30,
     "metadata": {},
     "output_type": "execute_result"
    }
   ],
   "source": [
    "pythons.get('Palin')"
   ]
  },
  {
   "cell_type": "code",
   "execution_count": 31,
   "id": "41438125-afe4-474a-9363-c59c99c62364",
   "metadata": {},
   "outputs": [
    {
     "data": {
      "text/plain": [
       "0"
      ]
     },
     "execution_count": 31,
     "metadata": {},
     "output_type": "execute_result"
    }
   ],
   "source": [
    "pythons.get('Choi',0)"
   ]
  },
  {
   "cell_type": "markdown",
   "id": "ba74b1b9-a330-4fde-ab64-884d067c1ef2",
   "metadata": {},
   "source": [
    "### keys(),values(),items()\n",
    "-keys\n",
    "-values\n",
    "-items"
   ]
  },
  {
   "cell_type": "code",
   "execution_count": 33,
   "id": "c6e3875d-0485-4a4f-9233-13edbb1ffa3c",
   "metadata": {},
   "outputs": [
    {
     "data": {
      "text/plain": [
       "dict_keys(['Chapman', 'Cleese', 'Idle', 'Jones', 'Palin'])"
      ]
     },
     "execution_count": 33,
     "metadata": {},
     "output_type": "execute_result"
    }
   ],
   "source": [
    "pythons.keys()"
   ]
  },
  {
   "cell_type": "code",
   "execution_count": 34,
   "id": "ab41165d-04ec-4aa4-b58f-07c7d25539d1",
   "metadata": {},
   "outputs": [
    {
     "data": {
      "text/plain": [
       "dict_values(['Graham', 'Kohn', 'Erica', 'Terry', 'Josh'])"
      ]
     },
     "execution_count": 34,
     "metadata": {},
     "output_type": "execute_result"
    }
   ],
   "source": [
    "pythons.values()"
   ]
  },
  {
   "cell_type": "code",
   "execution_count": 35,
   "id": "498b9089-8f06-4f0a-90eb-696d1582bd1d",
   "metadata": {},
   "outputs": [
    {
     "data": {
      "text/plain": [
       "dict_items([('Chapman', 'Graham'), ('Cleese', 'Kohn'), ('Idle', 'Erica'), ('Jones', 'Terry'), ('Palin', 'Josh')])"
      ]
     },
     "execution_count": 35,
     "metadata": {},
     "output_type": "execute_result"
    }
   ],
   "source": [
    "pythons.items()"
   ]
  },
  {
   "cell_type": "code",
   "execution_count": 36,
   "id": "95537ef8-6d20-48df-8d41-ed051edf13df",
   "metadata": {},
   "outputs": [
    {
     "data": {
      "text/plain": [
       "['Chapman', 'Cleese', 'Idle', 'Jones', 'Palin']"
      ]
     },
     "execution_count": 36,
     "metadata": {},
     "output_type": "execute_result"
    }
   ],
   "source": [
    "list(pythons.keys())"
   ]
  },
  {
   "cell_type": "code",
   "execution_count": 38,
   "id": "fd2e52df-408f-4cd8-b88a-dff0ae831098",
   "metadata": {},
   "outputs": [
    {
     "data": {
      "text/plain": [
       "['Graham', 'Kohn', 'Erica', 'Terry', 'Josh']"
      ]
     },
     "execution_count": 38,
     "metadata": {},
     "output_type": "execute_result"
    }
   ],
   "source": [
    "[x[1] for x in pythons.items()]"
   ]
  },
  {
   "cell_type": "code",
   "execution_count": 59,
   "id": "49b29763-8d6d-47f5-af1c-fa615f997d22",
   "metadata": {},
   "outputs": [],
   "source": [
    "animal = 'cat snake monkey ant spider'.split()\n",
    "legs = [4, 0, 2, 4, 8]\n",
    "#for loop 이용해서 animal : legs로 이뤄진 딕셔너리 만들기\n",
    "\n",
    "animal_dict=dict()\n",
    "\n",
    "for i in range(len(animal)):\n",
    "    animal_dict[animal[i]]=legs[i]"
   ]
  },
  {
   "cell_type": "code",
   "execution_count": 60,
   "id": "152243b8-c6e7-457d-b54f-0729e206feb0",
   "metadata": {},
   "outputs": [
    {
     "data": {
      "text/plain": [
       "{'cat': 4, 'snake': 0, 'monkey': 2, 'ant': 4, 'spider': 8}"
      ]
     },
     "execution_count": 60,
     "metadata": {},
     "output_type": "execute_result"
    }
   ],
   "source": [
    "animal_dict"
   ]
  },
  {
   "cell_type": "code",
   "execution_count": 68,
   "id": "be7734ea-25e3-4623-806d-25e6011be841",
   "metadata": {},
   "outputs": [
    {
     "data": {
      "text/plain": [
       "[('C', 6), ('C', 4), ('I', 5), ('J', 5), ('P', 4)]"
      ]
     },
     "execution_count": 68,
     "metadata": {},
     "output_type": "execute_result"
    }
   ],
   "source": [
    "#pythons에서 성:이름 => 리스트컴프리헨션 이용해서 [(성 앞글자, 이름의 글자 수)]\n",
    "[(name[0][0], len(name[1])) for name in pythons.items()] "
   ]
  },
  {
   "cell_type": "markdown",
   "id": "8c0c47e9-1cba-4fee-ae8a-d2b546d6cfa9",
   "metadata": {},
   "source": [
    "### 값 수정, 삭제, 복제"
   ]
  },
  {
   "cell_type": "code",
   "execution_count": 69,
   "id": "a5431e45-e174-452f-bbb3-379521de2abf",
   "metadata": {},
   "outputs": [
    {
     "data": {
      "text/plain": [
       "{'Chapman': 'Graham',\n",
       " 'Cleese': 'Kohn',\n",
       " 'Idle': 'Erica',\n",
       " 'Jones': 'Terry',\n",
       " 'Palin': 'Josh'}"
      ]
     },
     "execution_count": 69,
     "metadata": {},
     "output_type": "execute_result"
    }
   ],
   "source": [
    "pythons"
   ]
  },
  {
   "cell_type": "code",
   "execution_count": 70,
   "id": "241f9fbd-b1e5-4dee-8bd7-c76e5a4d320a",
   "metadata": {},
   "outputs": [],
   "source": [
    "others = {\n",
    "    'Marx':'Groucho',\n",
    "    'Howard':'Moe'\n",
    "}"
   ]
  },
  {
   "cell_type": "code",
   "execution_count": 71,
   "id": "038536cb-0444-470c-b5a6-870d4d0a4086",
   "metadata": {},
   "outputs": [],
   "source": [
    "pythons.update(others)"
   ]
  },
  {
   "cell_type": "code",
   "execution_count": 72,
   "id": "0ed06282-8425-43aa-8bdc-692911eac85c",
   "metadata": {},
   "outputs": [
    {
     "data": {
      "text/plain": [
       "{'Chapman': 'Graham',\n",
       " 'Cleese': 'Kohn',\n",
       " 'Idle': 'Erica',\n",
       " 'Jones': 'Terry',\n",
       " 'Palin': 'Josh',\n",
       " 'Marx': 'Groucho',\n",
       " 'Howard': 'Moe'}"
      ]
     },
     "execution_count": 72,
     "metadata": {},
     "output_type": "execute_result"
    }
   ],
   "source": [
    "pythons"
   ]
  },
  {
   "cell_type": "code",
   "execution_count": 73,
   "id": "2ca086fc-51a0-4735-ae96-37490f031ee1",
   "metadata": {},
   "outputs": [
    {
     "data": {
      "text/plain": [
       "{'Marx': 'Groucho',\n",
       " 'Howard': 'Moe',\n",
       " 'Chapman': 'Graham',\n",
       " 'Cleese': 'Kohn',\n",
       " 'Idle': 'Erica',\n",
       " 'Jones': 'Terry',\n",
       " 'Palin': 'Josh'}"
      ]
     },
     "execution_count": 73,
     "metadata": {},
     "output_type": "execute_result"
    }
   ],
   "source": [
    "{**others, **pythons} # python3 가능"
   ]
  },
  {
   "cell_type": "code",
   "execution_count": 75,
   "id": "3a2bb0f5-50ae-483d-8127-ddc31e360109",
   "metadata": {},
   "outputs": [],
   "source": [
    "#삭제\n",
    "del pythons['Palin']"
   ]
  },
  {
   "cell_type": "code",
   "execution_count": 77,
   "id": "0c296a11-7b85-4310-9865-d62448054499",
   "metadata": {},
   "outputs": [
    {
     "data": {
      "text/plain": [
       "'Groucho'"
      ]
     },
     "execution_count": 77,
     "metadata": {},
     "output_type": "execute_result"
    }
   ],
   "source": [
    "pythons.pop('Marx',0) #get과 비슷한ㅅ ㅓㅇ질"
   ]
  },
  {
   "cell_type": "code",
   "execution_count": 78,
   "id": "9b8449e8-dd79-4071-80dd-f01b9441a715",
   "metadata": {},
   "outputs": [],
   "source": [
    "pythons.clear()"
   ]
  },
  {
   "cell_type": "code",
   "execution_count": 79,
   "id": "686cd5a8-7728-4561-a836-a23758af67f2",
   "metadata": {},
   "outputs": [],
   "source": [
    "pythons={}"
   ]
  },
  {
   "cell_type": "code",
   "execution_count": 80,
   "id": "75cce128-9f9b-478f-bff0-c106341f2b52",
   "metadata": {},
   "outputs": [],
   "source": [
    "#copy\n",
    "#1. 할당\n",
    "#2. 얕은 복사\n",
    "#3. 깊은 복사"
   ]
  },
  {
   "cell_type": "code",
   "execution_count": 81,
   "id": "f301a210-9524-4372-9f1e-107876520052",
   "metadata": {},
   "outputs": [
    {
     "data": {
      "text/plain": [
       "({1: 10, 2: 3, 3: 4}, {1: 10, 2: 3, 3: 4})"
      ]
     },
     "execution_count": 81,
     "metadata": {},
     "output_type": "execute_result"
    }
   ],
   "source": [
    "a={1:2, 2:3, 3:4}\n",
    "b=a\n",
    "a[1]=10\n",
    "a,b"
   ]
  },
  {
   "cell_type": "code",
   "execution_count": 84,
   "id": "8f51c335-0a83-43df-b227-24b65c60c31c",
   "metadata": {},
   "outputs": [
    {
     "data": {
      "text/plain": [
       "({1: 100, 2: 3, 3: 4}, {1: 100, 2: 3, 3: 4})"
      ]
     },
     "execution_count": 84,
     "metadata": {},
     "output_type": "execute_result"
    }
   ],
   "source": [
    "b=a.copy()\n",
    "a[1]=100\n",
    "a,b #얕은 복사"
   ]
  },
  {
   "cell_type": "code",
   "execution_count": 87,
   "id": "0c1d7a07-5c52-4938-b9d8-c258f7c064f0",
   "metadata": {},
   "outputs": [
    {
     "data": {
      "text/plain": [
       "({1: [100, 2, 2], 2: [1, 1, 1]}, {1: [100, 2, 2], 2: [1, 1, 1]})"
      ]
     },
     "execution_count": 87,
     "metadata": {},
     "output_type": "execute_result"
    }
   ],
   "source": [
    "a={1:[2,2,2],2:[1,1,1]}\n",
    "b=a.copy()\n",
    "a[1][0] = 100\n",
    "a, b  #가변객체 안에있는 가변객체는 복사에서 제외됨"
   ]
  },
  {
   "cell_type": "code",
   "execution_count": 89,
   "id": "d36765b8-a38d-4e56-94a9-a95e3c5fb1d1",
   "metadata": {},
   "outputs": [
    {
     "data": {
      "text/plain": [
       "({1: [9, 2, 2], 2: [1, 1, 1]}, {1: [100, 2, 2], 2: [1, 1, 1]})"
      ]
     },
     "execution_count": 89,
     "metadata": {},
     "output_type": "execute_result"
    }
   ],
   "source": [
    "import copy\n",
    "b= copy.deepcopy(a) \n",
    "a[1][0]=9\n",
    "a,b"
   ]
  },
  {
   "cell_type": "code",
   "execution_count": 91,
   "id": "f68273e1-aea3-46e3-8ae0-ae0599825cdc",
   "metadata": {},
   "outputs": [
    {
     "data": {
      "text/plain": [
       "True"
      ]
     },
     "execution_count": 91,
     "metadata": {},
     "output_type": "execute_result"
    }
   ],
   "source": [
    "a != b\n",
    "#값 비교 : 같고 다르고"
   ]
  },
  {
   "cell_type": "markdown",
   "id": "b05fab08-6b6a-4cf9-9faf-f4b1c3abb7e3",
   "metadata": {},
   "source": [
    "### ex\n",
    "- 두 개 리스트를 딕셔너리로 만든다 : 한국어: 영어}\n",
    "- 명왕성 : pluto 추가하기\n",
    "- '성'으로 끝나지 않는 단어 삭제\n",
    "    del sdict['태양'] 이러면안댐 \n",
    "    _sorted 1) kor ii) eng"
   ]
  },
  {
   "cell_type": "code",
   "execution_count": 163,
   "id": "668f2957-ec96-4707-a5eb-817a1b767a3c",
   "metadata": {},
   "outputs": [
    {
     "ename": "NameError",
     "evalue": "name 'solar_system' is not defined",
     "output_type": "error",
     "traceback": [
      "\u001b[1;31m---------------------------------------------------------------------------\u001b[0m",
      "\u001b[1;31mNameError\u001b[0m                                 Traceback (most recent call last)",
      "\u001b[1;32m~\\AppData\\Local\\Temp/ipykernel_20012/4250106030.py\u001b[0m in \u001b[0;36m<module>\u001b[1;34m\u001b[0m\n\u001b[0;32m      8\u001b[0m \u001b[0msolar\u001b[0m\u001b[1;33m[\u001b[0m\u001b[1;34m'명왕성'\u001b[0m\u001b[1;33m]\u001b[0m\u001b[1;33m=\u001b[0m\u001b[1;34m'pluto'\u001b[0m\u001b[1;33m\u001b[0m\u001b[1;33m\u001b[0m\u001b[0m\n\u001b[0;32m      9\u001b[0m \u001b[1;33m\u001b[0m\u001b[0m\n\u001b[1;32m---> 10\u001b[1;33m \u001b[1;33m{\u001b[0m\u001b[0mk\u001b[0m\u001b[1;33m:\u001b[0m\u001b[0msolar\u001b[0m\u001b[1;33m[\u001b[0m\u001b[0mk\u001b[0m\u001b[1;33m]\u001b[0m \u001b[1;32mfor\u001b[0m \u001b[0mk\u001b[0m \u001b[1;32min\u001b[0m \u001b[0msolar_system\u001b[0m \u001b[1;32mif\u001b[0m \u001b[0mk\u001b[0m\u001b[1;33m.\u001b[0m\u001b[0mendswith\u001b[0m\u001b[1;33m(\u001b[0m\u001b[1;34m'성'\u001b[0m\u001b[1;33m)\u001b[0m\u001b[1;33m}\u001b[0m\u001b[1;33m\u001b[0m\u001b[1;33m\u001b[0m\u001b[0m\n\u001b[0m\u001b[0;32m     11\u001b[0m \u001b[1;33m\u001b[0m\u001b[0m\n\u001b[0;32m     12\u001b[0m \"\"\"\n",
      "\u001b[1;31mNameError\u001b[0m: name 'solar_system' is not defined"
     ]
    }
   ],
   "source": [
    "solar_kor = '태양 수성 금성 지구 화성 목성 토성 천왕성 해왕성'.split()\n",
    "solar_eng = 'Sun mercury Venus earth mars jupiter saturn uranus neptune'.split()\n",
    "solar={}\n",
    "\n",
    "for i in range(len(solar_kor)) :\n",
    "    solar[solar_kor[i]]=solar_eng[i]\n",
    "\n",
    "solar['명왕성']='pluto'\n",
    "\n",
    "{k:solar[k] for k in solar_system if k.endswith('성')}\n",
    "\n",
    "\"\"\"\n",
    "for i in solar.keys() :\n",
    "    if not solar.endswith('성') :\n",
    "        del solar[i]\n",
    "\"\"\"\n",
    "\n",
    "sorted(solar_system.items(), key=lambda x: x[1])\n"
   ]
  },
  {
   "cell_type": "code",
   "execution_count": 148,
   "id": "5de38a35-8351-48d9-9af8-437ffc6c2802",
   "metadata": {},
   "outputs": [
    {
     "name": "stdout",
     "output_type": "stream",
     "text": [
      "room has the contents ballroom\n",
      "weapon has the contents lead pipe\n",
      "person has the contents Col.Mustard\n"
     ]
    }
   ],
   "source": [
    "accusation = {'room':'ballroom', 'weapon':'lead pipe', 'person': 'Col.Mustard'}\n",
    "\n",
    "for k, v in accusation.items():\n",
    "    print(f'{k} has the contents {v}')\n",
    "    "
   ]
  },
  {
   "cell_type": "code",
   "execution_count": 149,
   "id": "123f8380-9a0a-4683-9fb0-65e482c61bf1",
   "metadata": {},
   "outputs": [
    {
     "data": {
      "text/plain": [
       "{'a': 1, 'e': 1, 'p': 2, 'l': 1}"
      ]
     },
     "execution_count": 149,
     "metadata": {},
     "output_type": "execute_result"
    }
   ],
   "source": [
    "letter = 'apple'\n",
    "{ch: letter.count(ch) for ch in set(letter)}"
   ]
  },
  {
   "cell_type": "code",
   "execution_count": 161,
   "id": "b4cbafc9-eb80-4aee-a564-3d4c0dea9eb9",
   "metadata": {},
   "outputs": [
    {
     "data": {
      "text/plain": [
       "{'a': 1, 'e': 1, 'i': 1, 'o': 1, 'u': 1}"
      ]
     },
     "execution_count": 161,
     "metadata": {},
     "output_type": "execute_result"
    }
   ],
   "source": [
    "#주어진 단어의 모음 세기 \n",
    "#vowels, word  각각 기준 잡아서 dic compre\n",
    "\n",
    "vowels = 'aeiou'\n",
    "word = 'onomatopoeia'\n",
    "\n",
    "vowel = ['a','e','i','o','u']\n",
    "\n",
    "{alphabet: vowels.count(alphabet) for alphabet in vowel} \n",
    "{alphabet: word.count(alphabet) for alphabet in vowel} "
   ]
  },
  {
   "cell_type": "markdown",
   "id": "4e390e12-2348-4454-932d-6bddcc157b72",
   "metadata": {},
   "source": [
    "## Set\n",
    "- 딕셔너리의 키만 모아놓음 => 중복 없음!\n",
    "- 수학의 집합 개념 => 교집합, 합집합, 차집합, ...\n",
    "- 데이터 자루, 순서 없고, 인덱싱 없고"
   ]
  },
  {
   "cell_type": "code",
   "execution_count": 164,
   "id": "4688662f-fca0-4e08-b494-0f20ff69890e",
   "metadata": {},
   "outputs": [
    {
     "data": {
      "text/plain": [
       "(set(), {})"
      ]
     },
     "execution_count": 164,
     "metadata": {},
     "output_type": "execute_result"
    }
   ],
   "source": [
    "empty = set()\n",
    "empty1 = {} #dict\n",
    "empty, empty1"
   ]
  },
  {
   "cell_type": "code",
   "execution_count": 165,
   "id": "249e224e-ecd9-4538-b93a-3ba9328c5f27",
   "metadata": {},
   "outputs": [
    {
     "data": {
      "text/plain": [
       "set"
      ]
     },
     "execution_count": 165,
     "metadata": {},
     "output_type": "execute_result"
    }
   ],
   "source": [
    "a={1,2,3}\n",
    "type(a)"
   ]
  },
  {
   "cell_type": "code",
   "execution_count": 166,
   "id": "6abe11e2-4800-4aee-a9d8-91b9ddd23fbe",
   "metadata": {},
   "outputs": [],
   "source": [
    "b=set([1,2,3])"
   ]
  },
  {
   "cell_type": "code",
   "execution_count": 167,
   "id": "e0211ee7-f795-4a12-b5d1-99c6520fc51a",
   "metadata": {},
   "outputs": [
    {
     "data": {
      "text/plain": [
       "{1, 2, 3}"
      ]
     },
     "execution_count": 167,
     "metadata": {},
     "output_type": "execute_result"
    }
   ],
   "source": [
    "b"
   ]
  },
  {
   "cell_type": "code",
   "execution_count": 168,
   "id": "e6ee2474-682a-4400-839d-8f5675506ad8",
   "metadata": {},
   "outputs": [
    {
     "data": {
      "text/plain": [
       "{1, 2, 3, 4}"
      ]
     },
     "execution_count": 168,
     "metadata": {},
     "output_type": "execute_result"
    }
   ],
   "source": [
    "#추가하기\n",
    "a.add(4)\n",
    "a"
   ]
  },
  {
   "cell_type": "code",
   "execution_count": 169,
   "id": "a36c2061-2358-4a44-8c34-5eaf25ef95a4",
   "metadata": {},
   "outputs": [
    {
     "data": {
      "text/plain": [
       "{1, 2, 3}"
      ]
     },
     "execution_count": 169,
     "metadata": {},
     "output_type": "execute_result"
    }
   ],
   "source": [
    "#삭제\n",
    "a.remove(4)\n",
    "a"
   ]
  },
  {
   "cell_type": "code",
   "execution_count": 170,
   "id": "f84ea544-62be-41da-be55-a38b80f78bf4",
   "metadata": {},
   "outputs": [
    {
     "data": {
      "text/plain": [
       "{1, 2}"
      ]
     },
     "execution_count": 170,
     "metadata": {},
     "output_type": "execute_result"
    }
   ],
   "source": [
    "a.discard(3)\n",
    "a"
   ]
  },
  {
   "cell_type": "code",
   "execution_count": 172,
   "id": "3aacda7f-c3ef-4677-b7d0-1a2c5df15e8a",
   "metadata": {},
   "outputs": [
    {
     "name": "stdout",
     "output_type": "stream",
     "text": [
      "martini\n",
      "black russian\n",
      "white russian\n",
      "screwdriver\n"
     ]
    }
   ],
   "source": [
    "drinks = {\n",
    "    'martini' : {'vodka', 'vermouth'},\n",
    "    'black russian' : {'vodka', 'kahlua'},\n",
    "    'white russian': {'crea', 'kahlua', 'vodka'},\n",
    "    'mahattan' : {'rye', 'vermouth', 'bitters'},\n",
    "    'screwdriver': {'orange juice', 'vodka'}\n",
    "}\n",
    "\n",
    "#vodka가 있는 키 골라내기\n",
    "#2. 보드카는 있는데 크림이나 버무스가 있으면 프린트하지 않기\n",
    "\n",
    "for i in drinks.keys():\n",
    "    if 'vodka' in drinks[i] :\n",
    "        print(i)\n",
    "        \n",
    "        \n",
    "#오 이거 좋다\n",
    "for k, v in drinks.items() :\n",
    "    if 'vodka' in v :\n",
    "        print(k)"
   ]
  },
  {
   "cell_type": "code",
   "execution_count": 173,
   "id": "3c1275b4-ca69-4df3-a4ab-3633368a599c",
   "metadata": {},
   "outputs": [
    {
     "data": {
      "text/plain": [
       "{'black russian', 'martini', 'screwdriver', 'white russian'}"
      ]
     },
     "execution_count": 173,
     "metadata": {},
     "output_type": "execute_result"
    }
   ],
   "source": [
    "{k for k, v in drinks.items() if 'vodka' in v and 'cream' not in v or 'vermouth' not in v}"
   ]
  },
  {
   "cell_type": "code",
   "execution_count": 174,
   "id": "f0ffb185-9a58-4dfb-9a68-443c67b11d18",
   "metadata": {},
   "outputs": [
    {
     "data": {
      "text/plain": [
       "{1}"
      ]
     },
     "execution_count": 174,
     "metadata": {},
     "output_type": "execute_result"
    }
   ],
   "source": [
    "a={1,2,3}\n",
    "b={2,3,4}\n",
    "\n",
    "#교집합 : intersection\n",
    "a.intersection(b)\n",
    "# 합집합 : union\n",
    "a.union(b)\n",
    "# 차집합 : difference \n",
    "a.difference(b)\n",
    "\n",
    "#위에서 했던거 이 표현으로 바꿔보기 \n"
   ]
  },
  {
   "cell_type": "code",
   "execution_count": 175,
   "id": "a677abf2-b242-4874-a3d0-2de665595709",
   "metadata": {},
   "outputs": [
    {
     "data": {
      "text/plain": [
       "frozenset({1, 2, 3})"
      ]
     },
     "execution_count": 175,
     "metadata": {},
     "output_type": "execute_result"
    }
   ],
   "source": [
    "#comprehension\n",
    "\n",
    "{s for s in a}\n",
    "\n",
    "#frozenset\n",
    "\n",
    "fs= frozenset([1,2,3])\n",
    "fs"
   ]
  },
  {
   "cell_type": "code",
   "execution_count": null,
   "id": "c761b12d-6fba-4d4d-8389-f073df081a61",
   "metadata": {},
   "outputs": [],
   "source": [
    "!pip install pylint\n",
    "!pylint example.py\n",
    "\n",
    "!pip install pydocstyle\n",
    "!pydocstyle example.py"
   ]
  }
 ],
 "metadata": {
  "kernelspec": {
   "display_name": "Python 3 (ipykernel)",
   "language": "python",
   "name": "python3"
  },
  "language_info": {
   "codemirror_mode": {
    "name": "ipython",
    "version": 3
   },
   "file_extension": ".py",
   "mimetype": "text/x-python",
   "name": "python",
   "nbconvert_exporter": "python",
   "pygments_lexer": "ipython3",
   "version": "3.9.7"
  }
 },
 "nbformat": 4,
 "nbformat_minor": 5
}
