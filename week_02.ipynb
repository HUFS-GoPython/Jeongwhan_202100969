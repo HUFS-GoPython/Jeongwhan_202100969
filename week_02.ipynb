{
 "cells": [
  {
   "cell_type": "markdown",
   "id": "bd1daf93-35a8-4acb-8016-7ec4a0427eec",
   "metadata": {
    "tags": []
   },
   "source": [
    "## 3/11 2주차 \n",
    "지난주 : 변수(Variable)와 이름, 값(Value), 자료형(Type), 할당하기(Assign)"
   ]
  },
  {
   "cell_type": "markdown",
   "id": "4748f613-5fa7-41ec-9205-bebff7d9b9f9",
   "metadata": {
    "tags": []
   },
   "source": [
    "# Ch.2 Variable"
   ]
  },
  {
   "cell_type": "markdown",
   "id": "2b0b8d4f-4734-4fcb-bbcc-22c11081c7a9",
   "metadata": {},
   "source": [
    "## 1. 자료형 바꾸기 \n",
    "- int를 float, str, bool로 바꿔보는 과정"
   ]
  },
  {
   "cell_type": "code",
   "execution_count": 2,
   "id": "3860f115-b61f-4b22-81fe-cc0132eff84e",
   "metadata": {},
   "outputs": [
    {
     "data": {
      "text/plain": [
       "int"
      ]
     },
     "execution_count": 2,
     "metadata": {},
     "output_type": "execute_result"
    }
   ],
   "source": [
    "a=10\n",
    "type(a)"
   ]
  },
  {
   "cell_type": "code",
   "execution_count": 3,
   "id": "7bc2e5dd-3941-43e7-859b-4ce0917fbe50",
   "metadata": {},
   "outputs": [
    {
     "data": {
      "text/plain": [
       "10.0"
      ]
     },
     "execution_count": 3,
     "metadata": {},
     "output_type": "execute_result"
    }
   ],
   "source": [
    "float(a)"
   ]
  },
  {
   "cell_type": "code",
   "execution_count": 4,
   "id": "c298adbb-563a-4f8b-8397-44263c4f0044",
   "metadata": {},
   "outputs": [
    {
     "data": {
      "text/plain": [
       "'10'"
      ]
     },
     "execution_count": 4,
     "metadata": {},
     "output_type": "execute_result"
    }
   ],
   "source": [
    "str(a)"
   ]
  },
  {
   "cell_type": "code",
   "execution_count": 5,
   "id": "60397303-dc96-4fff-9835-9afe820c4329",
   "metadata": {},
   "outputs": [
    {
     "data": {
      "text/plain": [
       "True"
      ]
     },
     "execution_count": 5,
     "metadata": {},
     "output_type": "execute_result"
    }
   ],
   "source": [
    "bool(10)\n",
    "#bool은 false가 가짓수가 더 적어서 나중에 false인 경우를 공부하면 됨"
   ]
  },
  {
   "cell_type": "markdown",
   "id": "401c736d-1690-407d-b35f-780c22e77da9",
   "metadata": {},
   "source": [
    "*** float -> int 변환시는 버림!"
   ]
  },
  {
   "cell_type": "code",
   "execution_count": 6,
   "id": "80589cea-9927-40c0-a5bd-bf3c979c655f",
   "metadata": {},
   "outputs": [
    {
     "data": {
      "text/plain": [
       "10"
      ]
     },
     "execution_count": 6,
     "metadata": {},
     "output_type": "execute_result"
    }
   ],
   "source": [
    "int(10.9)"
   ]
  },
  {
   "cell_type": "code",
   "execution_count": 8,
   "id": "a7449c9d-26b6-4409-86f6-4a42d3b03ded",
   "metadata": {},
   "outputs": [
    {
     "name": "stdout",
     "output_type": "stream",
     "text": [
      "12\n",
      "11\n"
     ]
    }
   ],
   "source": [
    "#이 예시는 당연히 값이 다를것 \n",
    "\n",
    "x = 4.6\n",
    "y = 7.9\n",
    "\n",
    "print(int(x + y))\n",
    "print(int(x) + int(y)) "
   ]
  },
  {
   "cell_type": "code",
   "execution_count": 9,
   "id": "8e769cfc-5fe5-4a9a-ad0b-a525b20a880d",
   "metadata": {},
   "outputs": [
    {
     "ename": "ValueError",
     "evalue": "invalid literal for int() with base 10: '88.3'",
     "output_type": "error",
     "traceback": [
      "\u001b[1;31m---------------------------------------------------------------------------\u001b[0m",
      "\u001b[1;31mValueError\u001b[0m                                Traceback (most recent call last)",
      "\u001b[1;32m~\\AppData\\Local\\Temp/ipykernel_21424/3169892964.py\u001b[0m in \u001b[0;36m<module>\u001b[1;34m\u001b[0m\n\u001b[0;32m      1\u001b[0m \u001b[1;31m# str -> int\u001b[0m\u001b[1;33m\u001b[0m\u001b[1;33m\u001b[0m\u001b[0m\n\u001b[0;32m      2\u001b[0m \u001b[0mp\u001b[0m \u001b[1;33m=\u001b[0m \u001b[1;34m'88.3'\u001b[0m\u001b[1;33m\u001b[0m\u001b[1;33m\u001b[0m\u001b[0m\n\u001b[1;32m----> 3\u001b[1;33m \u001b[0mint\u001b[0m\u001b[1;33m(\u001b[0m\u001b[0mp\u001b[0m\u001b[1;33m)\u001b[0m\u001b[1;33m\u001b[0m\u001b[1;33m\u001b[0m\u001b[0m\n\u001b[0m",
      "\u001b[1;31mValueError\u001b[0m: invalid literal for int() with base 10: '88.3'"
     ]
    }
   ],
   "source": [
    "# str -> int \n",
    "p = '88.3'\n",
    "int(p) "
   ]
  },
  {
   "cell_type": "code",
   "execution_count": 10,
   "id": "018032c1-8029-4165-b391-eb5d85ed4e74",
   "metadata": {},
   "outputs": [
    {
     "data": {
      "text/plain": [
       "88.3"
      ]
     },
     "execution_count": 10,
     "metadata": {},
     "output_type": "execute_result"
    }
   ],
   "source": [
    "# float으로는 가능. 문자형이 숫자 타입과 맞아야 바뀜 \n",
    "p = '88.3'\n",
    "float(p) "
   ]
  },
  {
   "cell_type": "markdown",
   "id": "360826f8-0654-4d5d-ae2d-0202a067924a",
   "metadata": {},
   "source": [
    "#### Tip1) print()의 숨겨진 기능"
   ]
  },
  {
   "cell_type": "code",
   "execution_count": 11,
   "id": "c02b99e7-5933-42a5-a527-6e56c2db2c44",
   "metadata": {},
   "outputs": [
    {
     "name": "stdout",
     "output_type": "stream",
     "text": [
      "nirvana oasis ssis\n",
      "the next line\n"
     ]
    }
   ],
   "source": [
    "# 기본적으로 띄어쓰기와 줄바꾸기가 됨\n",
    "print('nirvana', 'oasis', 'ssis')\n",
    "print(\"the next line\")"
   ]
  },
  {
   "cell_type": "code",
   "execution_count": 12,
   "id": "c65c3df7-971c-4e57-9a46-fba97594ea1d",
   "metadata": {},
   "outputs": [
    {
     "name": "stdout",
     "output_type": "stream",
     "text": [
      "nirvanaoasisssis\n",
      "nirvana oasis ssis\n",
      "nirvana_oasis_ssis\n",
      "\n",
      "EndofLine\n"
     ]
    }
   ],
   "source": [
    "# 띄어쓰기, 즐바꾸기 하고 싶지 않을 때 sep(separate), end로 조정 가능\n",
    "nirvana = 'nirvana'\n",
    "oasis = 'oasis'\n",
    "ssis = 'ssis'\n",
    "\n",
    "#1\n",
    "print(nirvana + oasis + ssis) # +로 연결하면 띄어쓰기 없어짐\n",
    "print(nirvana, oasis, ssis, sep=' ', end='\\n') #default값. \n",
    "print(nirvana, oasis, ssis, sep='_', end='\\n\\n') \n",
    "print('EndofLine')"
   ]
  },
  {
   "cell_type": "code",
   "execution_count": 13,
   "id": "650b2c5f-dca1-4bb0-adf9-e0ac65a2e6fe",
   "metadata": {},
   "outputs": [],
   "source": [
    "#;으로 각 라인 한 줄로 연결 가능\n",
    "nirvana = 'nirvana' ; oasis = 'oasis' ; ssis = 'ssis'"
   ]
  },
  {
   "cell_type": "markdown",
   "id": "4f28ab4a-a595-4c44-980f-d5d593a38812",
   "metadata": {},
   "source": [
    "\n",
    "\n",
    "## 2. input()\n",
    "- console(깜빡깜빡이)에서 사용자에게 값을 입력받는 함수\n",
    "- 입력 받는 값의 타입 = str이 됨"
   ]
  },
  {
   "cell_type": "code",
   "execution_count": 15,
   "id": "5bc7bfe2-6327-439a-b997-4bc3ef927c38",
   "metadata": {},
   "outputs": [
    {
     "name": "stdin",
     "output_type": "stream",
     "text": [
      "Wie ist dein Name? Ahrii\n"
     ]
    },
    {
     "name": "stdout",
     "output_type": "stream",
     "text": [
      "Ahrii\n"
     ]
    }
   ],
   "source": [
    "# 변수 입력 받는 방법 1.\n",
    "A = input(\"Wie ist dein Name?\")\n",
    "\n",
    "print(A)"
   ]
  },
  {
   "cell_type": "code",
   "execution_count": 16,
   "id": "08c44249-8a0a-4bfd-95a3-e394173bdb22",
   "metadata": {},
   "outputs": [
    {
     "name": "stdout",
     "output_type": "stream",
     "text": [
      "Wie ist dein Name?\n"
     ]
    },
    {
     "name": "stdin",
     "output_type": "stream",
     "text": [
      " Ahrii\n"
     ]
    },
    {
     "name": "stdout",
     "output_type": "stream",
     "text": [
      "Ahrii\n"
     ]
    }
   ],
   "source": [
    "# 변수 입력 받는 방법 2.\n",
    "print(\"Wie ist dein Name?\")\n",
    "\n",
    "name = input()\n",
    "\n",
    "print (name)\n",
    "\n",
    "#아무래도 1번이 더 편함"
   ]
  },
  {
   "cell_type": "markdown",
   "id": "677eb632-bd2f-42d2-b7ae-b78fdf7b03c0",
   "metadata": {},
   "source": [
    "#### input 기본값 : str => 다른 타입으로 사용 원하면 미리 변환을 해줘야 "
   ]
  },
  {
   "cell_type": "code",
   "execution_count": 20,
   "id": "4a9565d2-d72d-4916-a49f-51404a9661e5",
   "metadata": {},
   "outputs": [
    {
     "name": "stdin",
     "output_type": "stream",
     "text": [
      "Wie alt sind Sie? 34\n"
     ]
    },
    {
     "name": "stdout",
     "output_type": "stream",
     "text": [
      "당신이 태어난 해는 1989 입니다\n"
     ]
    }
   ],
   "source": [
    "age = int(input(\"Wie alt sind Sie?\"))\n",
    "\n",
    "print('당신이 태어난 해는', 2022 - age + 1, '입니다') "
   ]
  },
  {
   "cell_type": "markdown",
   "id": "7bdb94b0-3a40-4e35-829f-8b3a8723fc54",
   "metadata": {
    "tags": []
   },
   "source": [
    "#### Tip2 ) print를 더 예쁘게 하는 방법"
   ]
  },
  {
   "cell_type": "code",
   "execution_count": 22,
   "id": "28a2fb7c-9377-4b69-bee6-9c90049df20f",
   "metadata": {},
   "outputs": [
    {
     "name": "stdout",
     "output_type": "stream",
     "text": [
      "당신이 태어난 해는 1989년입니다!\n"
     ]
    }
   ],
   "source": [
    "print(f'당신이 태어난 해는 {2022 - age + 1}년입니다!') #print(f'{variable}')"
   ]
  },
  {
   "cell_type": "markdown",
   "id": "5a679dc1-1194-4c61-ab1f-b9a57641d836",
   "metadata": {},
   "source": [
    "### Quiz 1\n",
    "- 택배 정보를 입력 받고 무게에 따른 값 산정하기\n",
    "    - 수취인 성명 :\n",
    "    - 수취인 주소 :\n",
    "    - 배송비 : 3000원\n",
    "    - 물건비용: <계산된 값>원\n",
    "    - 총 합계: <계산된 값>원\n",
    "- 물건 비용은 무게(g) * 5\n",
    "- 입력 값 : 이름, 주소, 무게 3개가 될 것"
   ]
  },
  {
   "cell_type": "code",
   "execution_count": 28,
   "id": "5f601031-85ac-45b8-99e1-4afaaa80d7cf",
   "metadata": {},
   "outputs": [
    {
     "name": "stdin",
     "output_type": "stream",
     "text": [
      "받으실 분의 성함을 입력해주세요. 김아리\n",
      "받으실 분의 주소를 입력해주세요. 이문로 107\n",
      "물건의 무게(g)를 입력해주세요. 300\n"
     ]
    },
    {
     "name": "stdout",
     "output_type": "stream",
     "text": [
      "\n",
      "수취인의 성함은 김아리입니다.\n",
      "수취인의 주소는 이문로 107입니다.\n",
      "물건비용은 총 1500원이며, 배송비를 포함한 총 합계는 4500원 입니다.\n"
     ]
    }
   ],
   "source": [
    "name = input('받으실 분의 성함을 입력해주세요.')\n",
    "adress = input('받으실 분의 주소를 입력해주세요.')\n",
    "weight = int(input('물건의 무게(g)를 입력해주세요.'))\n",
    "\n",
    "print()\n",
    "print(f'수취인의 성함은 {name}입니다.')\n",
    "print(f'수취인의 주소는 {adress}입니다.')\n",
    "print(f'물건비용은 총 {weight*5}원이며, 배송비를 포함한 총 합계는 {weight*5+3000}원 입니다.')\n"
   ]
  },
  {
   "cell_type": "markdown",
   "id": "c7f2ea58-e2b5-405f-a071-e84799344817",
   "metadata": {},
   "source": [
    "# Ch.3 Numbers"
   ]
  },
  {
   "cell_type": "markdown",
   "id": "5e38a2a6-db19-4966-b911-fc36daf1504b",
   "metadata": {},
   "source": [
    "### boolean\n",
    "- True / False\n",
    "- False 값들 몇가지 (가짓수 True > False => False 케이스 숙지)\n",
    "- if문에서 많이 쓰임 ( ex | if a = True )"
   ]
  },
  {
   "cell_type": "code",
   "execution_count": 29,
   "id": "e0e65a61-89be-48c6-88ea-7b1e28a5b037",
   "metadata": {},
   "outputs": [
    {
     "data": {
      "text/plain": [
       "False"
      ]
     },
     "execution_count": 29,
     "metadata": {},
     "output_type": "execute_result"
    }
   ],
   "source": [
    "bool(0)"
   ]
  },
  {
   "cell_type": "code",
   "execution_count": 30,
   "id": "e09c9eb4-5a14-4b88-8da4-785bd746d84d",
   "metadata": {},
   "outputs": [
    {
     "data": {
      "text/plain": [
       "False"
      ]
     },
     "execution_count": 30,
     "metadata": {},
     "output_type": "execute_result"
    }
   ],
   "source": [
    "bool(None)"
   ]
  },
  {
   "cell_type": "markdown",
   "id": "bb62cf5f-fdd2-4e13-bccb-73fcc0ddb5d0",
   "metadata": {},
   "source": [
    "Integer\n",
    "- 분수나 소수가 아닌 정수\n",
    "- 음수는 '-' 기호를 붙여줌 ex) -50 (붙이지 않을때 기본값은 양수임)\n",
    "- 숫자 앞에는 0을 쓰지 못 함. ex) 09 (예외 : 10진수 등 다른 진수)\n",
    "- 숫자 사이에 쉼표 => Error\n",
    "    100,000 => Error\n",
    "    100_000 => O (숫자 사이 언더바는 인식하지 않음)\n",
    "   "
   ]
  },
  {
   "cell_type": "code",
   "execution_count": 32,
   "id": "a3330b6b-d363-421d-92d3-07eeb254b147",
   "metadata": {},
   "outputs": [
    {
     "ename": "SyntaxError",
     "evalue": "leading zeros in decimal integer literals are not permitted; use an 0o prefix for octal integers (Temp/ipykernel_21424/2890110653.py, line 1)",
     "output_type": "error",
     "traceback": [
      "\u001b[1;36m  File \u001b[1;32m\"C:\\Users\\dwin3\\AppData\\Local\\Temp/ipykernel_21424/2890110653.py\"\u001b[1;36m, line \u001b[1;32m1\u001b[0m\n\u001b[1;33m    a = 09\u001b[0m\n\u001b[1;37m         ^\u001b[0m\n\u001b[1;31mSyntaxError\u001b[0m\u001b[1;31m:\u001b[0m leading zeros in decimal integer literals are not permitted; use an 0o prefix for octal integers\n"
     ]
    }
   ],
   "source": [
    "a = 09"
   ]
  },
  {
   "cell_type": "code",
   "execution_count": 33,
   "id": "f6f1a5e6-8fe6-4c2b-bdec-8222a88b29d7",
   "metadata": {},
   "outputs": [
    {
     "data": {
      "text/plain": [
       "-1"
      ]
     },
     "execution_count": 33,
     "metadata": {},
     "output_type": "execute_result"
    }
   ],
   "source": [
    "a = -50\n",
    "b = 49\n",
    "a + b"
   ]
  },
  {
   "cell_type": "markdown",
   "id": "165852de-5498-4011-aaa2-67d134a41700",
   "metadata": {},
   "source": [
    "### 연산자(Operator)와 관련 용어들\n",
    "\n",
    "- +,-,*,/\n",
    "- 피연산자(operand) : 연산 대상들 (1,2, ... )\n",
    "- 수식(expression)"
   ]
  },
  {
   "cell_type": "code",
   "execution_count": 34,
   "id": "1942e482-c017-4044-83bf-a1507e8ae2b7",
   "metadata": {},
   "outputs": [
    {
     "data": {
      "text/plain": [
       "6561"
      ]
     },
     "execution_count": 34,
     "metadata": {},
     "output_type": "execute_result"
    }
   ],
   "source": [
    "x = 9\n",
    "y = 4\n",
    "\n",
    "#연산 예시\n",
    "x + y\n",
    "x - y\n",
    "x * y\n",
    "x / y #주의!!\n",
    "x ** y # 거듭제곱\n",
    "\n",
    "\n",
    "#나눗셈 심화\n",
    "x / y #결과물 (몫과 나머지 한 번에) (부동소수점 나눗셈이라고 함)\n",
    "x // y # 몫 (정수 나눗셈)\n",
    "x % y # 나머지"
   ]
  },
  {
   "cell_type": "code",
   "execution_count": 35,
   "id": "a77d0a3b-4ea5-4b5c-af6e-00482ba9819e",
   "metadata": {},
   "outputs": [
    {
     "data": {
      "text/plain": [
       "(2, 1)"
      ]
     },
     "execution_count": 35,
     "metadata": {},
     "output_type": "execute_result"
    }
   ],
   "source": [
    "divmod(x,y) #(몫, 나머지) 튜플 반환"
   ]
  },
  {
   "cell_type": "code",
   "execution_count": 36,
   "id": "7187de3e-0786-49c5-9a0a-04157d795b5f",
   "metadata": {},
   "outputs": [
    {
     "data": {
      "text/plain": [
       "2356"
      ]
     },
     "execution_count": 36,
     "metadata": {},
     "output_type": "execute_result"
    }
   ],
   "source": [
    "# 숫자 사이의 공백은 무시됨\n",
    "1  + 3 +                                 2352"
   ]
  },
  {
   "cell_type": "markdown",
   "id": "c8a88b39-86d4-4e31-a1f8-4940f03d0a5c",
   "metadata": {},
   "source": [
    "### 복합 대입 연산자 (compound assignment operator)"
   ]
  },
  {
   "cell_type": "code",
   "execution_count": 39,
   "id": "94a3d623-cec8-45ee-97b7-afbcbcf6be33",
   "metadata": {},
   "outputs": [
    {
     "name": "stdout",
     "output_type": "stream",
     "text": [
      "2\n",
      "-1\n"
     ]
    }
   ],
   "source": [
    "x = 5\n",
    "x = x -3 \n",
    "print(x)\n",
    "\n",
    "#1 x - 3 계산\n",
    "# temp x - 3 (임시변수에 할당)\n",
    "# x = temp\n",
    "\n",
    "# 이걸 합쳐서  x-=3 으로 표현함.+ - * / 다 씀\n",
    "x -= 3\n",
    "print(x)"
   ]
  },
  {
   "cell_type": "markdown",
   "id": "9958ba37-b729-480b-90cd-42db42f1ab83",
   "metadata": {},
   "source": [
    "### Quiz 2-1\n",
    "- 반지름을 입력 받아서 원의 면적 구하기\n",
    "- 면적 = pi * r의 제곱\n",
    "\n",
    "### Quiz 2-2\n",
    "- 숫자를 입력 받고 3의 배수인지 확인하기\n",
    "- 숫자를 입력 받고 홀수인지 확인하기"
   ]
  },
  {
   "cell_type": "code",
   "execution_count": 56,
   "id": "7f9f8b12-009f-487d-b639-f4f6fb485deb",
   "metadata": {},
   "outputs": [
    {
     "name": "stdin",
     "output_type": "stream",
     "text": [
      "반지름을 입력하세요. 5\n"
     ]
    },
    {
     "name": "stdout",
     "output_type": "stream",
     "text": [
      "원의 면적은 78.5 입니다.\n"
     ]
    }
   ],
   "source": [
    "#2-1\n",
    "radius = int(input(\"반지름을 입력하세요.\"))\n",
    "pi = 3.14\n",
    "area =  pi * (radius ** 2) #제곱이 먼저 계산된다고 하네요\n",
    "\n",
    "print(f\"원의 면적은 {area} 입니다.\")"
   ]
  },
  {
   "cell_type": "code",
   "execution_count": 53,
   "id": "f159374e-032a-49b6-a7df-96aa33b07a34",
   "metadata": {},
   "outputs": [
    {
     "name": "stdin",
     "output_type": "stream",
     "text": [
      "숫자를 입력하세요. 33\n"
     ]
    },
    {
     "name": "stdout",
     "output_type": "stream",
     "text": [
      "33는 3의 배수입니다.\n"
     ]
    }
   ],
   "source": [
    "#2-2 \n",
    "nummer = int(input('숫자를 입력하세요.'))\n",
    "\n",
    "answer = nummer % 3 \n",
    "\n",
    "if answer == 0 :\n",
    "    print(f\"{nummer}는 3의 배수입니다.\")\n",
    "    \n",
    "else :\n",
    "     print(f\"{nummer}는 3의 배수가 아닙니다.\")"
   ]
  },
  {
   "cell_type": "code",
   "execution_count": 54,
   "id": "3dd74993-e225-49a5-bad4-e1953cc14287",
   "metadata": {},
   "outputs": [
    {
     "name": "stdin",
     "output_type": "stream",
     "text": [
      "숫자를 입력하세요. 21\n"
     ]
    },
    {
     "name": "stdout",
     "output_type": "stream",
     "text": [
      "21는 홀수입니다.\n"
     ]
    }
   ],
   "source": [
    "# 홀수 확인\n",
    "nummer = int(input('숫자를 입력하세요.'))\n",
    "\n",
    "answer = nummer % 2\n",
    "\n",
    "if answer == 0 :\n",
    "    print(f\"{nummer}는 짝수입니다.\")\n",
    "    \n",
    "else :\n",
    "     print(f\"{nummer}는 홀수입니다.\")"
   ]
  },
  {
   "cell_type": "markdown",
   "id": "c0056d4a-59e9-42fa-9c74-841e77eed29c",
   "metadata": {},
   "source": [
    "### 지수 표현\n",
    "- ex) '1.0e-4'\n",
    "- e의 앞 부분은 소수, 정수 둘 다 됨\n",
    "- 뒷부분 must 정수\n",
    "- 뒷부분이 음수=> 소숫점 자릿수를 의미\n",
    "- e, E 대소문자 모두 사용가능"
   ]
  },
  {
   "cell_type": "code",
   "execution_count": 57,
   "id": "ea2920ad-9ed9-4df4-a7cc-1f5caf59f991",
   "metadata": {},
   "outputs": [
    {
     "data": {
      "text/plain": [
       "0.0001"
      ]
     },
     "execution_count": 57,
     "metadata": {},
     "output_type": "execute_result"
    }
   ],
   "source": [
    "1.0e-4"
   ]
  },
  {
   "cell_type": "code",
   "execution_count": 59,
   "id": "59851531-b64f-4766-96de-cdede98cd9dc",
   "metadata": {},
   "outputs": [
    {
     "data": {
      "text/plain": [
       "0.0004005"
      ]
     },
     "execution_count": 59,
     "metadata": {},
     "output_type": "execute_result"
    }
   ],
   "source": [
    "4005.0e-7"
   ]
  },
  {
   "cell_type": "markdown",
   "id": "7095cc96-f104-40af-8dd8-55ff051bc00b",
   "metadata": {},
   "source": [
    "# Ch.04 If 조건문"
   ]
  },
  {
   "cell_type": "markdown",
   "id": "49237af3-cb98-400f-a326-a0b7beb1a453",
   "metadata": {
    "tags": []
   },
   "source": [
    "#### tip) 코드 짜는 팁 \n",
    "1) 주석달기 (코드 설명은 최대한 하지 않는게 코딩을 잘 하는 것. Aber 의도를 전달 or 오류를 알릴때 씀)\n",
    "- #을 통해 쓰기\n",
    "- \"\"\" \"\"\" \n",
    "** sharp가 문자열 안에 들어가면 그냥 값으로 인식됨 \n",
    "\n",
    "2) 라인 유지하기 \n",
    "    - 들여쓰기 (tab => 공간 4개 생김) <= 논리 구조를 나타냄 important!\n",
    "    - 한 라인에 80자 정도가 국룰 (초과 => \\ (백슬래시)로 라인 끊어줌)\n",
    "   "
   ]
  },
  {
   "cell_type": "code",
   "execution_count": 62,
   "id": "a167ddf4-eff3-4d54-b6f4-43957312f2e5",
   "metadata": {},
   "outputs": [
    {
     "name": "stdout",
     "output_type": "stream",
     "text": [
      "hello world!\n"
     ]
    }
   ],
   "source": [
    "\"\"\"\n",
    "주석을 이렇게도 \n",
    "쓸 수 있습니다\n",
    "주석3\n",
    "주석4\n",
    "\"\"\"\n",
    "\n",
    "print(\"hello world!\")"
   ]
  },
  {
   "cell_type": "markdown",
   "id": "034e61b5-38b0-485a-beb7-12c1e7852ac8",
   "metadata": {
    "tags": []
   },
   "source": [
    "### if \n",
    "- if 기본\n",
    "if <조건식> : <실행할 코드>\n",
    "\n",
    "-if-else\n",
    "if <조건식> :\n",
    "    <실행할 코드1>\n",
    "else :\n",
    "    <실행할 코드2>\n",
    "\n",
    "-if-else-elif\n",
    "if <조건식> :\n",
    "    <실행할 코드1>\n",
    "elif <조건식2> :\n",
    "    <실행할 코드3>  \n",
    "elif ... :\n",
    "...\n",
    "else :\n",
    "    <실행할 코드2>\n"
   ]
  },
  {
   "cell_type": "code",
   "execution_count": 63,
   "id": "5252bfce-73c0-4839-a2ac-d1449c863c8a",
   "metadata": {},
   "outputs": [
    {
     "name": "stdout",
     "output_type": "stream",
     "text": [
      "두 수는 같지 않다\n"
     ]
    }
   ],
   "source": [
    "if 3 != 1 :\n",
    "    print(\"두 수는 같지 않다\")\n",
    "\n",
    "else :\n",
    "    print(\"두 수가 같다\")"
   ]
  },
  {
   "cell_type": "code",
   "execution_count": 65,
   "id": "00c0e2e0-5ec3-4cc8-9b30-53ca1d5abf5f",
   "metadata": {},
   "outputs": [
    {
     "name": "stdout",
     "output_type": "stream",
     "text": [
      "3보다 크다\n"
     ]
    }
   ],
   "source": [
    "# if-else-elif \n",
    "\n",
    "a =4 \n",
    "\n",
    "if a<3 :\n",
    "    print(\"3보다 작다\")\n",
    "elif a ==3 :\n",
    "    print(\"3이다\")\n",
    "else:\n",
    "    print(\"3보다 크다\")"
   ]
  },
  {
   "cell_type": "markdown",
   "id": "4218809b-1bcf-4270-9439-a502059cf80b",
   "metadata": {},
   "source": [
    "### 비교연산자\n",
    "- x < y\n",
    "- x > y\n",
    "- x >= y\n",
    "- x <= y\n",
    "- x == y (값에 대한 비교)\n",
    "- x != y\n",
    "- x is y (값, 메모리주소에 대한 비교?)\n",
    "- x is not y \n"
   ]
  },
  {
   "cell_type": "markdown",
   "id": "eb86882f-7d91-4203-86d2-3940a00915cf",
   "metadata": {},
   "source": [
    "### Quiz 3 \n",
    "- 3-1 시험 점수를 입력 받고, 80점 이상이면 True, 아니면 False 반환하기\n",
    "- 3-2 시험 점수를 입력 받고, 95 이상 A+, 90 이상 A, 85 이상 B+, 나머지 f 출력"
   ]
  },
  {
   "cell_type": "code",
   "execution_count": 71,
   "id": "3fb37259-a44d-478e-8154-4f50eb33581e",
   "metadata": {},
   "outputs": [
    {
     "name": "stdin",
     "output_type": "stream",
     "text": [
      "시험 점수를 입력하세요. 95\n"
     ]
    },
    {
     "name": "stdout",
     "output_type": "stream",
     "text": [
      "True\n"
     ]
    }
   ],
   "source": [
    "# 3-1\n",
    "score = int(input(\"시험 점수를 입력하세요.\"))\n",
    "\n",
    "if score >= 80 : \n",
    "    print(\"True\")\n",
    "else : \n",
    "    print(\"False\")\n",
    "            "
   ]
  },
  {
   "cell_type": "code",
   "execution_count": 79,
   "id": "e5963d6e-95c5-47a3-b318-7333b898c33d",
   "metadata": {},
   "outputs": [
    {
     "name": "stdin",
     "output_type": "stream",
     "text": [
      "시험 점수를 입력하세요. 70\n"
     ]
    },
    {
     "name": "stdout",
     "output_type": "stream",
     "text": [
      "F\n"
     ]
    }
   ],
   "source": [
    "# 3-2\n",
    "score = int(input(\"시험 점수를 입력하세요.\"))\n",
    "\n",
    "if score >= 95 : \n",
    "    print(\"A+\")\n",
    "elif score >= 90 : \n",
    "    print(\"A\")\n",
    "elif score >= 85 : \n",
    "    print(\"B+\")\n",
    "else :\n",
    "    print(\"F\")\n",
    "\n",
    "            "
   ]
  },
  {
   "cell_type": "code",
   "execution_count": null,
   "id": "834f8a98-6dad-4ec7-9729-23acd1449f18",
   "metadata": {},
   "outputs": [],
   "source": []
  }
 ],
 "metadata": {
  "kernelspec": {
   "display_name": "Python 3 (ipykernel)",
   "language": "python",
   "name": "python3"
  },
  "language_info": {
   "codemirror_mode": {
    "name": "ipython",
    "version": 3
   },
   "file_extension": ".py",
   "mimetype": "text/x-python",
   "name": "python",
   "nbconvert_exporter": "python",
   "pygments_lexer": "ipython3",
   "version": "3.9.7"
  }
 },
 "nbformat": 4,
 "nbformat_minor": 5
}
