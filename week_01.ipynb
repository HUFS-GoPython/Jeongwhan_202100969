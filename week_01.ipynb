{
 "cells": [
  {
   "cell_type": "code",
   "execution_count": 7,
   "id": "40b8c8a1-818a-4999-90a9-83d32bd0d1f5",
   "metadata": {},
   "outputs": [],
   "source": [
    "# 이게 주석\n",
    "# run : shift + enter \n",
    "# 단축키 잘 숙지하기. 인터페이스 파악하기. 기능 다 알기."
   ]
  },
  {
   "cell_type": "markdown",
   "id": "85e5ec77-bb15-4dd3-b71a-ba6f08aac119",
   "metadata": {},
   "source": [
    "ㅡmarkdown 영역 (+m) 그냥 셀 선택하고 m 누르면 됨.\n",
    "// # 갯수로 선택 가능. \n",
    " 3 - 제목\n",
    " 2 - 소제목 \n",
    " # - - 앞에 땡땡이 붙음"
   ]
  },
  {
   "cell_type": "markdown",
   "id": "d0f4d4a7-c161-45fc-bea6-d333f909c04a",
   "metadata": {
    "tags": []
   },
   "source": [
    "### Heading3 "
   ]
  },
  {
   "cell_type": "markdown",
   "id": "c368d946-3b15-43aa-8182-b1877bc7229b",
   "metadata": {
    "tags": []
   },
   "source": [
    "## 프로그래밍이란? 요런건 시험에 안 나옴\n",
    "- programming :  프로그래밍 언어를 사용하여 프로그램을 개발하는 것.\n",
    "- programm : 일련의 작업을 자동화하는 것.\n",
    "- Python ; 프로그래밍 언어 중 1. 인친언어. 인간이 컴퓨터에게 작업 명령을 하는데에 사용하는 언어 \n",
    "-- 오오"
   ]
  },
  {
   "cell_type": "markdown",
   "id": "b688302d-6dce-4eb7-a587-be2990c1e72e",
   "metadata": {},
   "source": [
    "## Ch2. Data:Types, Values, Variables, and Names"
   ]
  },
  {
   "cell_type": "code",
   "execution_count": 8,
   "id": "6deb6c09-8e00-45d2-824f-2018cd5833a1",
   "metadata": {},
   "outputs": [],
   "source": [
    "a = 2"
   ]
  },
  {
   "cell_type": "markdown",
   "id": "205b17ad-06d4-4cd3-a3d1-2c331100c754",
   "metadata": {},
   "source": [
    "- 변수 (variable) ( a ) : 특정 값을 저장하는 공간 #좋은 변수명 : 코드는 내가 아닌 남을 위해 쓰는거기에, 직관적으로 이해가 가능한 이름들이 좋음. ex) Name='myname'\n",
    "- 값 (value ( 2 ) : 변수에 저장하게 되는 값\n",
    "- 자료형 (Type) : 2가 어떤 타입인가? 데이터의 형태? 신분? integer (정수) => int\n",
    "- 할당하다 | assign : 2를 a에 넣는 행위를 할당하다라고 정의함 \n",
    "- !!! a와 2가 같다 (a, 2의 비교표현) => a == 2"
   ]
  },
  {
   "cell_type": "code",
   "execution_count": 10,
   "id": "f9d8adc3-ef99-4ee4-98e0-e3fad04111cf",
   "metadata": {},
   "outputs": [
    {
     "data": {
      "text/plain": [
       "True"
      ]
     },
     "execution_count": 10,
     "metadata": {},
     "output_type": "execute_result"
    }
   ],
   "source": [
    "a = 2\n",
    "a == 2"
   ]
  },
  {
   "cell_type": "markdown",
   "id": "858b4c53-4033-4d0d-85a0-bb0e8013bba2",
   "metadata": {},
   "source": [
    "### 변수의 타입 \n",
    "- boolean | 불리언 : True, False (`bool`)\n",
    "- integer | 정수 : 1,2, 0, -1, -2 ...(`int`)\n",
    "- floating point number | 부동소수점 : 1.0, 2.46, ... (`float`)\n",
    "- string | 문자열 : \"example\", \"3\"  (`str`)\n",
    "- 튜플, 셋 등등은 나중에.."
   ]
  },
  {
   "cell_type": "code",
   "execution_count": 11,
   "id": "67fe56bd-c52d-4264-bc04-700dadf9a46f",
   "metadata": {},
   "outputs": [
    {
     "data": {
      "text/plain": [
       "4"
      ]
     },
     "execution_count": 11,
     "metadata": {},
     "output_type": "execute_result"
    }
   ],
   "source": [
    "num = 4 \n",
    "num"
   ]
  },
  {
   "cell_type": "code",
   "execution_count": 12,
   "id": "3cc7479b-4651-4503-81ec-956a85cda111",
   "metadata": {},
   "outputs": [
    {
     "name": "stdout",
     "output_type": "stream",
     "text": [
      "4\n"
     ]
    }
   ],
   "source": [
    "print(num)"
   ]
  },
  {
   "cell_type": "code",
   "execution_count": 13,
   "id": "d97fed7a-fa11-4ad5-acc0-2c624709d082",
   "metadata": {},
   "outputs": [
    {
     "data": {
      "text/plain": [
       "int"
      ]
     },
     "execution_count": 13,
     "metadata": {},
     "output_type": "execute_result"
    }
   ],
   "source": [
    "type(num)"
   ]
  },
  {
   "cell_type": "code",
   "execution_count": 14,
   "id": "c3659bf2-70c9-4a9f-a78a-2b065baeee02",
   "metadata": {},
   "outputs": [
    {
     "data": {
      "text/plain": [
       "float"
      ]
     },
     "execution_count": 14,
     "metadata": {},
     "output_type": "execute_result"
    }
   ],
   "source": [
    "type(1.0)"
   ]
  },
  {
   "cell_type": "code",
   "execution_count": 15,
   "id": "13114dc9-e7df-4a82-9586-cbbf224750aa",
   "metadata": {},
   "outputs": [
    {
     "data": {
      "text/plain": [
       "bool"
      ]
     },
     "execution_count": 15,
     "metadata": {},
     "output_type": "execute_result"
    }
   ],
   "source": [
    "type(a==2)"
   ]
  },
  {
   "cell_type": "code",
   "execution_count": 16,
   "id": "e56a8e59-00b4-4812-82d1-08f8d9fd40d1",
   "metadata": {},
   "outputs": [
    {
     "name": "stdout",
     "output_type": "stream",
     "text": [
      "mein Name\n"
     ]
    }
   ],
   "source": [
    "Name = 'mein Name'\n",
    "print(Name)"
   ]
  },
  {
   "cell_type": "code",
   "execution_count": 17,
   "id": "0f6e7fa3-6534-4517-b664-2effc7337c38",
   "metadata": {},
   "outputs": [
    {
     "ename": "NameError",
     "evalue": "name 'my_name' is not defined",
     "output_type": "error",
     "traceback": [
      "\u001b[1;31m---------------------------------------------------------------------------\u001b[0m",
      "\u001b[1;31mNameError\u001b[0m                                 Traceback (most recent call last)",
      "\u001b[1;32m~\\AppData\\Local\\Temp/ipykernel_15084/2438469588.py\u001b[0m in \u001b[0;36m<module>\u001b[1;34m\u001b[0m\n\u001b[1;32m----> 1\u001b[1;33m \u001b[0mmy_name\u001b[0m \u001b[1;31m# 그냥 이렇게 치게 되면 변수명으로 인식해서 에러가 뜸. 띄어쓰기하면 그냥 에러 나고\u001b[0m\u001b[1;33m\u001b[0m\u001b[1;33m\u001b[0m\u001b[0m\n\u001b[0m",
      "\u001b[1;31mNameError\u001b[0m: name 'my_name' is not defined"
     ]
    }
   ],
   "source": [
    "my_name # 그냥 이렇게 치게 되면 변수명으로 인식해서 에러가 뜸. 띄어쓰기하면 그냥 에러 나고"
   ]
  },
  {
   "cell_type": "code",
   "execution_count": 19,
   "id": "9be40dd2-7ee6-48cb-a39c-0052f5160cdf",
   "metadata": {},
   "outputs": [
    {
     "name": "stdout",
     "output_type": "stream",
     "text": [
      "I'm sam.\n",
      "I'm sam.\n"
     ]
    }
   ],
   "source": [
    "# Single quote 안에 single quote를 문자로 인식하는 법 \n",
    "#'I'm sam.'\n",
    "\n",
    "#1 \\ 사용\n",
    "print('I\\'m sam.')\n",
    "\n",
    "#2 \"\" 사용\n",
    "print(\"I'm sam.\")"
   ]
  },
  {
   "cell_type": "markdown",
   "id": "e0942aa3-a161-4ec7-8974-76a0a9d88cc3",
   "metadata": {},
   "source": [
    "### 변수명 정하기\n",
    "- 소문자, 대문자, 숫자, 언더바(_)\n",
    "    - ex) `name`,`my_name`,`NAME`, `Name` 그러나 대문자는 특별한 용도가 있기에 안 쓰는게 좋음, `name3`\n",
    "    - ~ex) `my-name` `3name`(숫자로 시작은 불가능)\n",
    "    \n",
    "- 사용할 수 없는 케이스 정리\n",
    "    1. 숫자로 시작할 수 없음\n",
    "    2. 예약어는 사용할 수 없음 (문법이나 함수를 위해서 쓰는 단어들.. ex) True, False, def ...) help(\"keywords\")\n",
    "    \n",
    " 필기 중 핵심인 부분과 아닌 구분을 잘 구별해서 머리에 저장하기!"
   ]
  },
  {
   "cell_type": "code",
   "execution_count": 22,
   "id": "b8484152-0d83-44ca-9c24-c3afc2bce0e0",
   "metadata": {},
   "outputs": [
    {
     "ename": "SyntaxError",
     "evalue": "invalid syntax (Temp/ipykernel_15084/3541710988.py, line 2)",
     "output_type": "error",
     "traceback": [
      "\u001b[1;36m  File \u001b[1;32m\"C:\\Users\\dwin3\\AppData\\Local\\Temp/ipykernel_15084/3541710988.py\"\u001b[1;36m, line \u001b[1;32m2\u001b[0m\n\u001b[1;33m    3name = kim\u001b[0m\n\u001b[1;37m     ^\u001b[0m\n\u001b[1;31mSyntaxError\u001b[0m\u001b[1;31m:\u001b[0m invalid syntax\n"
     ]
    }
   ],
   "source": [
    "#1.예시\n",
    "3name = kim"
   ]
  },
  {
   "cell_type": "code",
   "execution_count": 24,
   "id": "d5a3b5aa-1510-4216-a293-acbdc8d50454",
   "metadata": {},
   "outputs": [
    {
     "ename": "SyntaxError",
     "evalue": "invalid syntax (Temp/ipykernel_15084/3301805089.py, line 2)",
     "output_type": "error",
     "traceback": [
      "\u001b[1;36m  File \u001b[1;32m\"C:\\Users\\dwin3\\AppData\\Local\\Temp/ipykernel_15084/3301805089.py\"\u001b[1;36m, line \u001b[1;32m2\u001b[0m\n\u001b[1;33m    def = 324\u001b[0m\n\u001b[1;37m        ^\u001b[0m\n\u001b[1;31mSyntaxError\u001b[0m\u001b[1;31m:\u001b[0m invalid syntax\n"
     ]
    }
   ],
   "source": [
    "#2.예시\n",
    "def = 324"
   ]
  },
  {
   "cell_type": "markdown",
   "id": "e8010088-ca4e-47a8-9c6d-ae61bcda847c",
   "metadata": {},
   "source": [
    "- 유의점 (특별한 용도가 있기에 일반적으로 사용하지는 않는 변수명)\n",
    "    1. 언더바로 시작하는 변수명\n",
    "        ex ) _name\n",
    "    2. 언더바가 2개 있는 변수명\n",
    "        ex ) __name__\n",
    "    3. 대문자로 시작하는 변수명\n",
    "        ex) Car\n",
    "    4. 전체가 대문자인 변수명\n",
    "        ex) CAR"
   ]
  },
  {
   "cell_type": "code",
   "execution_count": 25,
   "id": "6e744351-563d-4a22-95f3-a464cca7079d",
   "metadata": {},
   "outputs": [
    {
     "data": {
      "text/plain": [
       "False"
      ]
     },
     "execution_count": 25,
     "metadata": {},
     "output_type": "execute_result"
    }
   ],
   "source": [
    "# number != Number (대문자 구문한다는 소리)\n",
    "word1 = 'number'\n",
    "word2 = 'Number'\n",
    "word1 == word2"
   ]
  },
  {
   "cell_type": "code",
   "execution_count": 26,
   "id": "0216e984-1484-4944-9ea4-7e2aca334c81",
   "metadata": {},
   "outputs": [
    {
     "data": {
      "text/plain": [
       "True"
      ]
     },
     "execution_count": 26,
     "metadata": {},
     "output_type": "execute_result"
    }
   ],
   "source": [
    "word1 != word2"
   ]
  },
  {
   "cell_type": "markdown",
   "id": "cc673938-6a06-4ce5-8956-e50080186725",
   "metadata": {},
   "source": [
    "### 할당하기\n",
    "- = 기호를 통해 할당을 진행함. (일상에서 =의 뜻은 ==로 옮겨감)\n",
    " ex ) ` name = 'lee' `\n",
    "- 오른 쪽에 있는 모든 것은 값을 가져야 한다 (`초기화`) => 값이 빈 것들이 나오면 안됨"
   ]
  },
  {
   "cell_type": "code",
   "execution_count": 27,
   "id": "2ac38665-4c1c-469f-8a37-caee0a770b93",
   "metadata": {},
   "outputs": [
    {
     "ename": "NameError",
     "evalue": "name 'kia' is not defined",
     "output_type": "error",
     "traceback": [
      "\u001b[1;31m---------------------------------------------------------------------------\u001b[0m",
      "\u001b[1;31mNameError\u001b[0m                                 Traceback (most recent call last)",
      "\u001b[1;32m~\\AppData\\Local\\Temp/ipykernel_15084/1169681178.py\u001b[0m in \u001b[0;36m<module>\u001b[1;34m\u001b[0m\n\u001b[0;32m      1\u001b[0m \u001b[0mcar\u001b[0m \u001b[1;33m=\u001b[0m \u001b[1;34m'hyundai'\u001b[0m\u001b[1;33m\u001b[0m\u001b[1;33m\u001b[0m\u001b[0m\n\u001b[1;32m----> 2\u001b[1;33m \u001b[0mtruck\u001b[0m \u001b[1;33m=\u001b[0m \u001b[0mkia\u001b[0m\u001b[1;33m\u001b[0m\u001b[1;33m\u001b[0m\u001b[0m\n\u001b[0m",
      "\u001b[1;31mNameError\u001b[0m: name 'kia' is not defined"
     ]
    }
   ],
   "source": [
    "car = 'hyundai'\n",
    "truck = kia"
   ]
  },
  {
   "cell_type": "code",
   "execution_count": 28,
   "id": "cb7e3410-23c8-41b5-8f54-4fbee1107ff9",
   "metadata": {},
   "outputs": [
    {
     "data": {
      "text/plain": [
       "str"
      ]
     },
     "execution_count": 29,
     "metadata": {},
     "output_type": "execute_result"
    }
   ],
   "source": [
    "# 파이썬은 문법에 따르면 번수를 알아서 알아줌.. 똑똑한 뇨속\n",
    "car = 'kia'"
   ]
  },
  {
   "cell_type": "markdown",
   "id": "61c7d394-088d-4f09-a367-b74bf7e56338",
   "metadata": {},
   "source": [
    "오늘 과제 : 깃 가입 후 올리기, 코드복습해서 올리기 어 그냥 이거 그대로 올리라구? "
   ]
  },
  {
   "cell_type": "code",
   "execution_count": null,
   "id": "b92c5085-c23e-4990-b679-5498f44127a1",
   "metadata": {},
   "outputs": [],
   "source": []
  }
 ],
 "metadata": {
  "kernelspec": {
   "display_name": "Python 3 (ipykernel)",
   "language": "python",
   "name": "python3"
  },
  "language_info": {
   "codemirror_mode": {
    "name": "ipython",
    "version": 3
   },
   "file_extension": ".py",
   "mimetype": "text/x-python",
   "name": "python",
   "nbconvert_exporter": "python",
   "pygments_lexer": "ipython3",
   "version": "3.9.7"
  }
 },
 "nbformat": 4,
 "nbformat_minor": 5
}
