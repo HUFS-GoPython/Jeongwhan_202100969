{
 "cells": [
  {
   "cell_type": "markdown",
   "id": "4ebc8636-0104-4a9a-a675-7eb34e059721",
   "metadata": {},
   "source": [
    "오늘 진도 : for loop / while (반복문) + nltk "
   ]
  },
  {
   "cell_type": "code",
   "execution_count": 3,
   "id": "63f83e6b-9722-4059-8a9a-b5fab7ed3e04",
   "metadata": {},
   "outputs": [],
   "source": [
    "#.. list comprehension도 for loop 성격.\n",
    "\n"
   ]
  },
  {
   "cell_type": "markdown",
   "id": "26a05800-52bc-4ec2-bc48-fdb52187bfa7",
   "metadata": {},
   "source": [
    "### While\n",
    "- 어떤 조건이 만족할 때까지 블록 수행\n",
    "- 해당 조건이 False => 멈춤\n",
    "- for + if의 성격을 가짐"
   ]
  },
  {
   "cell_type": "code",
   "execution_count": 4,
   "id": "64e28230-02c9-42ef-bf62-904acc1bda6c",
   "metadata": {},
   "outputs": [
    {
     "name": "stdout",
     "output_type": "stream",
     "text": [
      "0\n",
      "1\n",
      "2\n",
      "3\n",
      "4\n",
      "5\n",
      "6\n",
      "7\n",
      "8\n",
      "9\n"
     ]
    }
   ],
   "source": [
    "#bsp\n",
    "j = 0\n",
    "while j< 10 :\n",
    "    print(j)\n",
    "    j += 1\n"
   ]
  },
  {
   "cell_type": "markdown",
   "id": "98b24e70-ee20-4d58-afe7-7945daa7a1bc",
   "metadata": {},
   "source": [
    "#### For vs While \n",
    "- for loop : 반복 횟수 정확 and 반복 횟수 변하지 않을 때\n",
    "   bsp) 전체 학생 성적 산출 \n",
    "- while loop : 반복횟수가 정확하지 않음 and 조건을 만족시킬때 프로그램 종료하고 싶을때\n",
    "   bsp)"
   ]
  },
  {
   "cell_type": "code",
   "execution_count": 5,
   "id": "01f57bbd-8880-4e75-9a04-49f41af6f754",
   "metadata": {},
   "outputs": [
    {
     "name": "stdout",
     "output_type": "stream",
     "text": [
      "a\n",
      "b\n",
      "c\n"
     ]
    }
   ],
   "source": [
    "characters = ['a','b','c']\n",
    "for ch in characters :\n",
    "    print(ch)"
   ]
  },
  {
   "cell_type": "code",
   "execution_count": 7,
   "id": "b1e529d5-738f-4caf-8c53-7112f0cad02e",
   "metadata": {},
   "outputs": [
    {
     "name": "stdout",
     "output_type": "stream",
     "text": [
      "a\n",
      "b\n",
      "c\n"
     ]
    }
   ],
   "source": [
    "ch = 0\n",
    "while ch<len(characters) : #히야.. 이런 방법이\n",
    "    print(characters[ch])\n",
    "    ch+=1"
   ]
  },
  {
   "cell_type": "markdown",
   "id": "896e4072-36fb-4c61-964b-3bf0a226ed6a",
   "metadata": {},
   "source": [
    "### 반복문 제어 함수\n",
    "!!! 제어는 되도록이면 자제함 <= 의도치 않게 코드가 종료될 수 있음\n",
    "\n",
    "#### break, else, continue\n",
    "- break : 깨고 나오는 것. 반복 강제 종료"
   ]
  },
  {
   "cell_type": "code",
   "execution_count": 9,
   "id": "4bc38ba0-bd41-426b-a866-722fe5dfd0e0",
   "metadata": {},
   "outputs": [
    {
     "name": "stdout",
     "output_type": "stream",
     "text": [
      "0\n",
      "1\n",
      "2\n",
      "3\n",
      "4\n"
     ]
    }
   ],
   "source": [
    "#bsp\n",
    "for i in range(10):\n",
    "    if i == 5 : break\n",
    "    print(i)\n",
    " "
   ]
  },
  {
   "cell_type": "markdown",
   "id": "32227d89-0398-494a-8cbc-504712d17ea0",
   "metadata": {},
   "source": [
    "- else : 어떤 조건이 \"완전히\" 끝났을 때 한번 더 실행하는 블록. break로 끝난 것과 구분 가능?"
   ]
  },
  {
   "cell_type": "code",
   "execution_count": 11,
   "id": "d338495d-5e82-4402-b6d6-2992238772bc",
   "metadata": {},
   "outputs": [
    {
     "name": "stdout",
     "output_type": "stream",
     "text": [
      "0\n",
      "1\n",
      "2\n",
      "3\n",
      "4\n",
      "5\n"
     ]
    }
   ],
   "source": [
    "#bsp\n",
    "for i in range(10):\n",
    "    if i == 6 : break\n",
    "    print(i)\n",
    "else : \n",
    "    print(\"ended\")\n",
    " "
   ]
  },
  {
   "cell_type": "markdown",
   "id": "f9516a0f-5d23-4bf8-b13d-fddb3e71c582",
   "metadata": {},
   "source": [
    "-continue : 특정조건을 건너뛰고 다음 조건을 수행함"
   ]
  },
  {
   "cell_type": "code",
   "execution_count": 12,
   "id": "17c2c135-33c2-4a5d-84ac-823917bbdc07",
   "metadata": {},
   "outputs": [
    {
     "name": "stdout",
     "output_type": "stream",
     "text": [
      "0\n",
      "1\n",
      "2\n",
      "3\n",
      "4\n",
      "5\n",
      "7\n",
      "8\n",
      "9\n",
      "ended\n"
     ]
    }
   ],
   "source": [
    "#bsp\n",
    "for i in range(10):\n",
    "    if i == 6 : continue\n",
    "    print(i)\n",
    "else : \n",
    "    print(\"ended\")\n",
    " "
   ]
  },
  {
   "cell_type": "markdown",
   "id": "01015921-6116-4bfa-b8b3-c055c0563aed",
   "metadata": {},
   "source": [
    "### 구구단 예제\n",
    "- 1. for, while 중 선택한 뒤, n단을 입력받고 출력\n",
    "     - 출력 : == 3단 == \n",
    "              3 X 1 = 3\n",
    "              ... 9 = 27\n",
    "              \n",
    "- 2. 1~n단까지 출력함\n",
    "- 3. 시작단, 끝단 둘 다 입력받을 것\n",
    "    - 예 : 4 - 7단\n",
    "- 4. 프로그램으로 만든다. (처음에 메뉴)"
   ]
  },
  {
   "cell_type": "code",
   "execution_count": 16,
   "id": "3271513d-b1e1-43ad-987b-954c030e5367",
   "metadata": {},
   "outputs": [
    {
     "name": "stdin",
     "output_type": "stream",
     "text": [
      "원하는 단을 입력하세요 5\n"
     ]
    },
    {
     "name": "stdout",
     "output_type": "stream",
     "text": [
      "==5단==\n",
      "5 X 1 = 5\n",
      "5 X 2 = 10\n",
      "5 X 3 = 15\n",
      "5 X 4 = 20\n",
      "5 X 5 = 25\n",
      "5 X 6 = 30\n",
      "5 X 7 = 35\n",
      "5 X 8 = 40\n",
      "5 X 9 = 45\n"
     ]
    }
   ],
   "source": [
    "# 1\n",
    "frontnum=int(input(\"원하는 단을 입력하세요\"))\n",
    "\n",
    "print(f\"=={frontnum}단==\")\n",
    "for i in range(1,10) :\n",
    "    result = frontnum*i\n",
    "    print(f\"{frontnum} X {i} = {result}\")"
   ]
  },
  {
   "cell_type": "code",
   "execution_count": 20,
   "id": "97d95c38-eb78-41c2-983f-cc1fb81598ad",
   "metadata": {
    "collapsed": true,
    "jupyter": {
     "outputs_hidden": true
    },
    "tags": []
   },
   "outputs": [
    {
     "name": "stdin",
     "output_type": "stream",
     "text": [
      "원하는 단을 입력하세요 6\n"
     ]
    },
    {
     "name": "stdout",
     "output_type": "stream",
     "text": [
      "==1단==\n",
      "1 X 1 = 1\n",
      "1 X 2 = 2\n",
      "1 X 3 = 3\n",
      "1 X 4 = 4\n",
      "1 X 5 = 5\n",
      "1 X 6 = 6\n",
      "1 X 7 = 7\n",
      "1 X 8 = 8\n",
      "1 X 9 = 9\n",
      "\n",
      "\n",
      "==2단==\n",
      "2 X 1 = 2\n",
      "2 X 2 = 4\n",
      "2 X 3 = 6\n",
      "2 X 4 = 8\n",
      "2 X 5 = 10\n",
      "2 X 6 = 12\n",
      "2 X 7 = 14\n",
      "2 X 8 = 16\n",
      "2 X 9 = 18\n",
      "\n",
      "\n",
      "==3단==\n",
      "3 X 1 = 3\n",
      "3 X 2 = 6\n",
      "3 X 3 = 9\n",
      "3 X 4 = 12\n",
      "3 X 5 = 15\n",
      "3 X 6 = 18\n",
      "3 X 7 = 21\n",
      "3 X 8 = 24\n",
      "3 X 9 = 27\n",
      "\n",
      "\n",
      "==4단==\n",
      "4 X 1 = 4\n",
      "4 X 2 = 8\n",
      "4 X 3 = 12\n",
      "4 X 4 = 16\n",
      "4 X 5 = 20\n",
      "4 X 6 = 24\n",
      "4 X 7 = 28\n",
      "4 X 8 = 32\n",
      "4 X 9 = 36\n",
      "\n",
      "\n",
      "==5단==\n",
      "5 X 1 = 5\n",
      "5 X 2 = 10\n",
      "5 X 3 = 15\n",
      "5 X 4 = 20\n",
      "5 X 5 = 25\n",
      "5 X 6 = 30\n",
      "5 X 7 = 35\n",
      "5 X 8 = 40\n",
      "5 X 9 = 45\n",
      "\n",
      "\n",
      "==6단==\n",
      "6 X 1 = 6\n",
      "6 X 2 = 12\n",
      "6 X 3 = 18\n",
      "6 X 4 = 24\n",
      "6 X 5 = 30\n",
      "6 X 6 = 36\n",
      "6 X 7 = 42\n",
      "6 X 8 = 48\n",
      "6 X 9 = 54\n",
      "\n",
      "\n"
     ]
    }
   ],
   "source": [
    "# 2\n",
    "\n",
    "frontnum=int(input(\"원하는 단을 입력하세요\"))\n",
    "\n",
    "for j in range(1,frontnum+1) :\n",
    "    print(f\"=={j}단==\")\n",
    "    for i in range(1,10) :\n",
    "        result = j*i\n",
    "        print(f\"{j} X {i} = {result}\")\n",
    "    \n",
    "    print(\"\\n\")"
   ]
  },
  {
   "cell_type": "code",
   "execution_count": 21,
   "id": "22a1ab32-14b6-4943-948a-b2afb36552e8",
   "metadata": {
    "collapsed": true,
    "jupyter": {
     "outputs_hidden": true
    },
    "tags": []
   },
   "outputs": [
    {
     "name": "stdin",
     "output_type": "stream",
     "text": [
      "시작 단을 입력하세요 1\n",
      "끝 단을 입력하세요 8\n"
     ]
    },
    {
     "name": "stdout",
     "output_type": "stream",
     "text": [
      "==1단==\n",
      "1 X 1 = 1\n",
      "1 X 2 = 2\n",
      "1 X 3 = 3\n",
      "1 X 4 = 4\n",
      "1 X 5 = 5\n",
      "1 X 6 = 6\n",
      "1 X 7 = 7\n",
      "1 X 8 = 8\n",
      "1 X 9 = 9\n",
      "\n",
      "\n",
      "==2단==\n",
      "2 X 1 = 2\n",
      "2 X 2 = 4\n",
      "2 X 3 = 6\n",
      "2 X 4 = 8\n",
      "2 X 5 = 10\n",
      "2 X 6 = 12\n",
      "2 X 7 = 14\n",
      "2 X 8 = 16\n",
      "2 X 9 = 18\n",
      "\n",
      "\n",
      "==3단==\n",
      "3 X 1 = 3\n",
      "3 X 2 = 6\n",
      "3 X 3 = 9\n",
      "3 X 4 = 12\n",
      "3 X 5 = 15\n",
      "3 X 6 = 18\n",
      "3 X 7 = 21\n",
      "3 X 8 = 24\n",
      "3 X 9 = 27\n",
      "\n",
      "\n",
      "==4단==\n",
      "4 X 1 = 4\n",
      "4 X 2 = 8\n",
      "4 X 3 = 12\n",
      "4 X 4 = 16\n",
      "4 X 5 = 20\n",
      "4 X 6 = 24\n",
      "4 X 7 = 28\n",
      "4 X 8 = 32\n",
      "4 X 9 = 36\n",
      "\n",
      "\n",
      "==5단==\n",
      "5 X 1 = 5\n",
      "5 X 2 = 10\n",
      "5 X 3 = 15\n",
      "5 X 4 = 20\n",
      "5 X 5 = 25\n",
      "5 X 6 = 30\n",
      "5 X 7 = 35\n",
      "5 X 8 = 40\n",
      "5 X 9 = 45\n",
      "\n",
      "\n",
      "==6단==\n",
      "6 X 1 = 6\n",
      "6 X 2 = 12\n",
      "6 X 3 = 18\n",
      "6 X 4 = 24\n",
      "6 X 5 = 30\n",
      "6 X 6 = 36\n",
      "6 X 7 = 42\n",
      "6 X 8 = 48\n",
      "6 X 9 = 54\n",
      "\n",
      "\n",
      "==7단==\n",
      "7 X 1 = 7\n",
      "7 X 2 = 14\n",
      "7 X 3 = 21\n",
      "7 X 4 = 28\n",
      "7 X 5 = 35\n",
      "7 X 6 = 42\n",
      "7 X 7 = 49\n",
      "7 X 8 = 56\n",
      "7 X 9 = 63\n",
      "\n",
      "\n",
      "==8단==\n",
      "8 X 1 = 8\n",
      "8 X 2 = 16\n",
      "8 X 3 = 24\n",
      "8 X 4 = 32\n",
      "8 X 5 = 40\n",
      "8 X 6 = 48\n",
      "8 X 7 = 56\n",
      "8 X 8 = 64\n",
      "8 X 9 = 72\n",
      "\n",
      "\n"
     ]
    }
   ],
   "source": [
    "# 3\n",
    "\n",
    "startnum=int(input(\"시작 단을 입력하세요\"))\n",
    "endnum=int(input(\"끝 단을 입력하세요\"))\n",
    "\n",
    "    if startnum>=endnum :\n",
    "        print(\"잘못된 입력입니다\")\n",
    "        break\n",
    "    \n",
    "    else :\n",
    "        continue \n",
    "        \n",
    "for j in range(startnum,endnum+1) :\n",
    "    print(f\"=={j}단==\")\n",
    "    for i in range(1,10) :\n",
    "        result = j*i\n",
    "        print(f\"{j} X {i} = {result}\")\n",
    "    \n",
    "    print(\"\\n\")"
   ]
  },
  {
   "cell_type": "code",
   "execution_count": 37,
   "id": "5eba78d7-fec6-485e-990f-8bbf23b660eb",
   "metadata": {
    "collapsed": true,
    "jupyter": {
     "outputs_hidden": true
    },
    "tags": []
   },
   "outputs": [
    {
     "name": "stdin",
     "output_type": "stream",
     "text": [
      "원하시는 기능의 번호를 입력하세요. \n",
      " 1. N단\n",
      " 2. 1~N단 \n",
      " 3. n~m단 \n",
      " 3\n",
      "시작 단을 입력하세요 5\n",
      "끝 단을 입력하세요 9\n"
     ]
    },
    {
     "name": "stdout",
     "output_type": "stream",
     "text": [
      "==5단==\n",
      "5 X 1 = 5\n",
      "5 X 2 = 10\n",
      "5 X 3 = 15\n",
      "5 X 4 = 20\n",
      "5 X 5 = 25\n",
      "5 X 6 = 30\n",
      "5 X 7 = 35\n",
      "5 X 8 = 40\n",
      "5 X 9 = 45\n",
      "\n",
      "\n",
      "==6단==\n",
      "6 X 1 = 6\n",
      "6 X 2 = 12\n",
      "6 X 3 = 18\n",
      "6 X 4 = 24\n",
      "6 X 5 = 30\n",
      "6 X 6 = 36\n",
      "6 X 7 = 42\n",
      "6 X 8 = 48\n",
      "6 X 9 = 54\n",
      "\n",
      "\n",
      "==7단==\n",
      "7 X 1 = 7\n",
      "7 X 2 = 14\n",
      "7 X 3 = 21\n",
      "7 X 4 = 28\n",
      "7 X 5 = 35\n",
      "7 X 6 = 42\n",
      "7 X 7 = 49\n",
      "7 X 8 = 56\n",
      "7 X 9 = 63\n",
      "\n",
      "\n",
      "==8단==\n",
      "8 X 1 = 8\n",
      "8 X 2 = 16\n",
      "8 X 3 = 24\n",
      "8 X 4 = 32\n",
      "8 X 5 = 40\n",
      "8 X 6 = 48\n",
      "8 X 7 = 56\n",
      "8 X 8 = 64\n",
      "8 X 9 = 72\n",
      "\n",
      "\n",
      "==9단==\n",
      "9 X 1 = 9\n",
      "9 X 2 = 18\n",
      "9 X 3 = 27\n",
      "9 X 4 = 36\n",
      "9 X 5 = 45\n",
      "9 X 6 = 54\n",
      "9 X 7 = 63\n",
      "9 X 8 = 72\n",
      "9 X 9 = 81\n",
      "\n",
      "\n"
     ]
    }
   ],
   "source": [
    "#4\n",
    "setnum = int(input(\"원하시는 기능의 번호를 입력하세요. \\n 1. N단\\n 2. 1~N단 \\n 3. n~m단 \\n\"))\n",
    "\n",
    "if setnum == 1 :\n",
    "    \n",
    "    frontnum=int(input(\"원하는 단을 입력하세요\"))\n",
    "    print(f\"=={frontnum}단==\")\n",
    "    for i in range(1,10) :\n",
    "        result = frontnum*i\n",
    "        print(f\"{frontnum} X {i} = {result}\")\n",
    "    \n",
    "elif setnum == 2 :\n",
    "    frontnum=int(input(\"원하는 단을 입력하세요\"))\n",
    "\n",
    "    for j in range(1,frontnum+1) :\n",
    "        print(f\"=={j}단==\")\n",
    "        for i in range(1,10) :\n",
    "            result = j*i\n",
    "            print(f\"{j} X {i} = {result}\")\n",
    "    \n",
    "        print(\"\\n\")\n",
    "    \n",
    "elif setnum == 3 : \n",
    "    startnum=int(input(\"시작 단을 입력하세요\"))\n",
    "    endnum=int(input(\"끝 단을 입력하세요\"))\n",
    "\n",
    "    if startnum>=endnum :\n",
    "        print(\"시작단이 끝단보다 작게 입력해주세요\")\n",
    "        sys.exit()\n",
    "    \n",
    "            \n",
    "    for j in range(startnum,endnum+1) :\n",
    "        print(f\"=={j}단==\")\n",
    "        for i in range(1,10) :\n",
    "            result = j*i\n",
    "            print(f\"{j} X {i} = {result}\") \n",
    "        \n",
    "        print(\"\\n\")\n",
    "\n",
    "else : \n",
    "    print(\"잘못된 입력입니다.\")\n",
    "\n",
    "#어떻게 리턴을 가지? while문을 돌려?"
   ]
  },
  {
   "cell_type": "markdown",
   "id": "2566b039-4b0d-4896-b856-94d988c44e13",
   "metadata": {},
   "source": [
    "### print formating 부가설명\n",
    "- 1. f string (f 대소문자 둘 다 가능)\n",
    "    실현 : print(f'...{var}...')\n",
    "- 2.format\n",
    "    실현 : print('..{}...'.format(var))\n",
    "- 3. %\n",
    "    실현: '%type ' % var\n",
    "   bsp) print('나의 이름은 %s입니다.' %name)\n"
   ]
  },
  {
   "cell_type": "code",
   "execution_count": 38,
   "id": "f9165f32-b5dd-44b6-997d-938b32077c98",
   "metadata": {},
   "outputs": [
    {
     "name": "stdout",
     "output_type": "stream",
     "text": [
      "나의 이름은 name= 'lee' !!!!\n"
     ]
    }
   ],
   "source": [
    "name = 'lee'\n",
    "print(f'나의 이름은 {name= } !!!!')\n",
    "#요런 방법도 있음 변수 이름까지 넣기"
   ]
  },
  {
   "cell_type": "code",
   "execution_count": 39,
   "id": "35ae059d-a1bc-4de7-a517-b98b5914e168",
   "metadata": {},
   "outputs": [
    {
     "name": "stdout",
     "output_type": "stream",
     "text": [
      "너의 이름은 l ???\n"
     ]
    }
   ],
   "source": [
    "print('너의 이름은 {:.1s} ???'.format(name)) # 소수점 출력시 활용"
   ]
  },
  {
   "cell_type": "markdown",
   "id": "ac27ad09-f34b-4af9-8938-54a77fc379f8",
   "metadata": {},
   "source": [
    "### NLTK 추가 공부 : corpus\n",
    "- 다양한 종류의 코퍼스가 존재함\n",
    "- 더 다양한 언어 분석 가능함.\n",
    "- gutenberg, brown, inaugural 등이 있음\n",
    "- 사용 가능 함수 : words() sents() #sentence fileids() raw()"
   ]
  },
  {
   "cell_type": "code",
   "execution_count": 3,
   "id": "7b3c0b90-7f84-4d95-9373-3a1dab35a4c2",
   "metadata": {},
   "outputs": [
    {
     "data": {
      "text/plain": [
       "True"
      ]
     },
     "execution_count": 3,
     "metadata": {},
     "output_type": "execute_result"
    }
   ],
   "source": [
    "import nltk\n",
    "from nltk.corpus import gutenberg\n",
    "nltk.download('gutenberg', quiet=True)"
   ]
  },
  {
   "cell_type": "code",
   "execution_count": 4,
   "id": "9cef739d-3fd2-434b-b091-7d17cf0b8e72",
   "metadata": {},
   "outputs": [
    {
     "data": {
      "text/plain": [
       "['[', 'Emma', 'by', 'Jane', 'Austen', '1816', ']', ...]"
      ]
     },
     "execution_count": 4,
     "metadata": {},
     "output_type": "execute_result"
    }
   ],
   "source": [
    "gutenberg.words()"
   ]
  },
  {
   "cell_type": "code",
   "execution_count": 5,
   "id": "8a7328a3-699b-414f-8d84-77de0ba98d94",
   "metadata": {},
   "outputs": [
    {
     "data": {
      "text/plain": [
       "['austen-emma.txt',\n",
       " 'austen-persuasion.txt',\n",
       " 'austen-sense.txt',\n",
       " 'bible-kjv.txt',\n",
       " 'blake-poems.txt',\n",
       " 'bryant-stories.txt',\n",
       " 'burgess-busterbrown.txt',\n",
       " 'carroll-alice.txt',\n",
       " 'chesterton-ball.txt',\n",
       " 'chesterton-brown.txt',\n",
       " 'chesterton-thursday.txt',\n",
       " 'edgeworth-parents.txt',\n",
       " 'melville-moby_dick.txt',\n",
       " 'milton-paradise.txt',\n",
       " 'shakespeare-caesar.txt',\n",
       " 'shakespeare-hamlet.txt',\n",
       " 'shakespeare-macbeth.txt',\n",
       " 'whitman-leaves.txt']"
      ]
     },
     "execution_count": 5,
     "metadata": {},
     "output_type": "execute_result"
    }
   ],
   "source": [
    "gutenberg.fileids()"
   ]
  },
  {
   "cell_type": "code",
   "execution_count": 7,
   "id": "a2db3962-f116-4a29-99ec-fbf675fe9ba4",
   "metadata": {},
   "outputs": [
    {
     "name": "stdout",
     "output_type": "stream",
     "text": [
      "austen-emma.txt | 글자 수 = 887071개, 단어 수 = 192427개, 문장 수 = 7752개\n",
      "austen-persuasion.txt | 글자 수 = 466292개, 단어 수 = 98171개, 문장 수 = 3747개\n",
      "austen-sense.txt | 글자 수 = 673022개, 단어 수 = 141576개, 문장 수 = 4999개\n",
      "bible-kjv.txt | 글자 수 = 4332554개, 단어 수 = 1010654개, 문장 수 = 30103개\n",
      "blake-poems.txt | 글자 수 = 38153개, 단어 수 = 8354개, 문장 수 = 438개\n",
      "bryant-stories.txt | 글자 수 = 249439개, 단어 수 = 55563개, 문장 수 = 2863개\n",
      "burgess-busterbrown.txt | 글자 수 = 84663개, 단어 수 = 18963개, 문장 수 = 1054개\n",
      "carroll-alice.txt | 글자 수 = 144395개, 단어 수 = 34110개, 문장 수 = 1703개\n",
      "chesterton-ball.txt | 글자 수 = 457450개, 단어 수 = 96996개, 문장 수 = 4779개\n",
      "chesterton-brown.txt | 글자 수 = 406629개, 단어 수 = 86063개, 문장 수 = 3806개\n",
      "chesterton-thursday.txt | 글자 수 = 320525개, 단어 수 = 69213개, 문장 수 = 3742개\n",
      "edgeworth-parents.txt | 글자 수 = 935158개, 단어 수 = 210663개, 문장 수 = 10230개\n",
      "melville-moby_dick.txt | 글자 수 = 1242990개, 단어 수 = 260819개, 문장 수 = 10059개\n",
      "milton-paradise.txt | 글자 수 = 468220개, 단어 수 = 96825개, 문장 수 = 1851개\n",
      "shakespeare-caesar.txt | 글자 수 = 112310개, 단어 수 = 25833개, 문장 수 = 2163개\n",
      "shakespeare-hamlet.txt | 글자 수 = 162881개, 단어 수 = 37360개, 문장 수 = 3106개\n",
      "shakespeare-macbeth.txt | 글자 수 = 100351개, 단어 수 = 23140개, 문장 수 = 1907개\n",
      "whitman-leaves.txt | 글자 수 = 711215개, 단어 수 = 154883개, 문장 수 = 4250개\n"
     ]
    }
   ],
   "source": [
    "# 구텐버그의 각 파일을 돌아가면서 글자(캐릭터) 수, 단어수, 문장 수를 출력하는 연습문제.\n",
    "\n",
    "aa = gutenberg.fileids()\n",
    "\n",
    "for i in range(len(aa)):\n",
    "    print(f\"{aa[i]} | 글자 수 = {len(gutenberg.raw(aa[i]))}개, 단어 수 = {len(gutenberg.words(aa[i]))}개, 문장 수 = {len(gutenberg.sents(aa[i]))}개\")\n",
    "    \n",
    "    "
   ]
  },
  {
   "cell_type": "markdown",
   "id": "cc1abd6a-36f0-4937-b4f6-c2e9c6712b90",
   "metadata": {
    "tags": []
   },
   "source": [
    "### Modal Verbs\n"
   ]
  },
  {
   "cell_type": "code",
   "execution_count": 12,
   "id": "1563ce49-e39c-4f43-a629-478d6fea010d",
   "metadata": {},
   "outputs": [
    {
     "name": "stderr",
     "output_type": "stream",
     "text": [
      "[nltk_data] Downloading collection 'book'\n",
      "[nltk_data]    | \n",
      "[nltk_data]    | Downloading package abc to\n",
      "[nltk_data]    |     C:\\Users\\dwin3\\AppData\\Roaming\\nltk_data...\n",
      "[nltk_data]    |   Package abc is already up-to-date!\n",
      "[nltk_data]    | Downloading package brown to\n",
      "[nltk_data]    |     C:\\Users\\dwin3\\AppData\\Roaming\\nltk_data...\n",
      "[nltk_data]    |   Package brown is already up-to-date!\n",
      "[nltk_data]    | Downloading package chat80 to\n",
      "[nltk_data]    |     C:\\Users\\dwin3\\AppData\\Roaming\\nltk_data...\n",
      "[nltk_data]    |   Package chat80 is already up-to-date!\n",
      "[nltk_data]    | Downloading package cmudict to\n",
      "[nltk_data]    |     C:\\Users\\dwin3\\AppData\\Roaming\\nltk_data...\n",
      "[nltk_data]    |   Package cmudict is already up-to-date!\n",
      "[nltk_data]    | Downloading package conll2000 to\n",
      "[nltk_data]    |     C:\\Users\\dwin3\\AppData\\Roaming\\nltk_data...\n",
      "[nltk_data]    |   Package conll2000 is already up-to-date!\n",
      "[nltk_data]    | Downloading package conll2002 to\n",
      "[nltk_data]    |     C:\\Users\\dwin3\\AppData\\Roaming\\nltk_data...\n",
      "[nltk_data]    |   Package conll2002 is already up-to-date!\n",
      "[nltk_data]    | Downloading package dependency_treebank to\n",
      "[nltk_data]    |     C:\\Users\\dwin3\\AppData\\Roaming\\nltk_data...\n",
      "[nltk_data]    |   Package dependency_treebank is already up-to-date!\n",
      "[nltk_data]    | Downloading package genesis to\n",
      "[nltk_data]    |     C:\\Users\\dwin3\\AppData\\Roaming\\nltk_data...\n",
      "[nltk_data]    |   Package genesis is already up-to-date!\n",
      "[nltk_data]    | Downloading package gutenberg to\n",
      "[nltk_data]    |     C:\\Users\\dwin3\\AppData\\Roaming\\nltk_data...\n",
      "[nltk_data]    |   Package gutenberg is already up-to-date!\n",
      "[nltk_data]    | Downloading package ieer to\n",
      "[nltk_data]    |     C:\\Users\\dwin3\\AppData\\Roaming\\nltk_data...\n",
      "[nltk_data]    |   Package ieer is already up-to-date!\n",
      "[nltk_data]    | Downloading package inaugural to\n",
      "[nltk_data]    |     C:\\Users\\dwin3\\AppData\\Roaming\\nltk_data...\n",
      "[nltk_data]    |   Package inaugural is already up-to-date!\n",
      "[nltk_data]    | Downloading package movie_reviews to\n",
      "[nltk_data]    |     C:\\Users\\dwin3\\AppData\\Roaming\\nltk_data...\n",
      "[nltk_data]    |   Package movie_reviews is already up-to-date!\n",
      "[nltk_data]    | Downloading package nps_chat to\n",
      "[nltk_data]    |     C:\\Users\\dwin3\\AppData\\Roaming\\nltk_data...\n",
      "[nltk_data]    |   Package nps_chat is already up-to-date!\n",
      "[nltk_data]    | Downloading package names to\n",
      "[nltk_data]    |     C:\\Users\\dwin3\\AppData\\Roaming\\nltk_data...\n",
      "[nltk_data]    |   Package names is already up-to-date!\n",
      "[nltk_data]    | Downloading package ppattach to\n",
      "[nltk_data]    |     C:\\Users\\dwin3\\AppData\\Roaming\\nltk_data...\n",
      "[nltk_data]    |   Package ppattach is already up-to-date!\n",
      "[nltk_data]    | Downloading package reuters to\n",
      "[nltk_data]    |     C:\\Users\\dwin3\\AppData\\Roaming\\nltk_data...\n",
      "[nltk_data]    |   Package reuters is already up-to-date!\n",
      "[nltk_data]    | Downloading package senseval to\n",
      "[nltk_data]    |     C:\\Users\\dwin3\\AppData\\Roaming\\nltk_data...\n",
      "[nltk_data]    |   Package senseval is already up-to-date!\n",
      "[nltk_data]    | Downloading package state_union to\n",
      "[nltk_data]    |     C:\\Users\\dwin3\\AppData\\Roaming\\nltk_data...\n",
      "[nltk_data]    |   Package state_union is already up-to-date!\n",
      "[nltk_data]    | Downloading package stopwords to\n",
      "[nltk_data]    |     C:\\Users\\dwin3\\AppData\\Roaming\\nltk_data...\n",
      "[nltk_data]    |   Package stopwords is already up-to-date!\n",
      "[nltk_data]    | Downloading package swadesh to\n",
      "[nltk_data]    |     C:\\Users\\dwin3\\AppData\\Roaming\\nltk_data...\n",
      "[nltk_data]    |   Package swadesh is already up-to-date!\n",
      "[nltk_data]    | Downloading package timit to\n",
      "[nltk_data]    |     C:\\Users\\dwin3\\AppData\\Roaming\\nltk_data...\n",
      "[nltk_data]    |   Package timit is already up-to-date!\n",
      "[nltk_data]    | Downloading package treebank to\n",
      "[nltk_data]    |     C:\\Users\\dwin3\\AppData\\Roaming\\nltk_data...\n",
      "[nltk_data]    |   Package treebank is already up-to-date!\n",
      "[nltk_data]    | Downloading package toolbox to\n",
      "[nltk_data]    |     C:\\Users\\dwin3\\AppData\\Roaming\\nltk_data...\n",
      "[nltk_data]    |   Package toolbox is already up-to-date!\n",
      "[nltk_data]    | Downloading package udhr to\n",
      "[nltk_data]    |     C:\\Users\\dwin3\\AppData\\Roaming\\nltk_data...\n",
      "[nltk_data]    |   Package udhr is already up-to-date!\n",
      "[nltk_data]    | Downloading package udhr2 to\n",
      "[nltk_data]    |     C:\\Users\\dwin3\\AppData\\Roaming\\nltk_data...\n",
      "[nltk_data]    |   Package udhr2 is already up-to-date!\n",
      "[nltk_data]    | Downloading package unicode_samples to\n",
      "[nltk_data]    |     C:\\Users\\dwin3\\AppData\\Roaming\\nltk_data...\n",
      "[nltk_data]    |   Package unicode_samples is already up-to-date!\n",
      "[nltk_data]    | Downloading package webtext to\n",
      "[nltk_data]    |     C:\\Users\\dwin3\\AppData\\Roaming\\nltk_data...\n",
      "[nltk_data]    |   Package webtext is already up-to-date!\n",
      "[nltk_data]    | Downloading package wordnet to\n",
      "[nltk_data]    |     C:\\Users\\dwin3\\AppData\\Roaming\\nltk_data...\n",
      "[nltk_data]    |   Package wordnet is already up-to-date!\n",
      "[nltk_data]    | Downloading package wordnet_ic to\n",
      "[nltk_data]    |     C:\\Users\\dwin3\\AppData\\Roaming\\nltk_data...\n",
      "[nltk_data]    |   Package wordnet_ic is already up-to-date!\n",
      "[nltk_data]    | Downloading package words to\n",
      "[nltk_data]    |     C:\\Users\\dwin3\\AppData\\Roaming\\nltk_data...\n",
      "[nltk_data]    |   Package words is already up-to-date!\n",
      "[nltk_data]    | Downloading package maxent_treebank_pos_tagger to\n",
      "[nltk_data]    |     C:\\Users\\dwin3\\AppData\\Roaming\\nltk_data...\n",
      "[nltk_data]    |   Package maxent_treebank_pos_tagger is already up-\n",
      "[nltk_data]    |       to-date!\n",
      "[nltk_data]    | Downloading package maxent_ne_chunker to\n",
      "[nltk_data]    |     C:\\Users\\dwin3\\AppData\\Roaming\\nltk_data...\n",
      "[nltk_data]    |   Package maxent_ne_chunker is already up-to-date!\n",
      "[nltk_data]    | Downloading package universal_tagset to\n",
      "[nltk_data]    |     C:\\Users\\dwin3\\AppData\\Roaming\\nltk_data...\n",
      "[nltk_data]    |   Package universal_tagset is already up-to-date!\n",
      "[nltk_data]    | Downloading package punkt to\n",
      "[nltk_data]    |     C:\\Users\\dwin3\\AppData\\Roaming\\nltk_data...\n",
      "[nltk_data]    |   Package punkt is already up-to-date!\n",
      "[nltk_data]    | Downloading package book_grammars to\n",
      "[nltk_data]    |     C:\\Users\\dwin3\\AppData\\Roaming\\nltk_data...\n",
      "[nltk_data]    |   Package book_grammars is already up-to-date!\n",
      "[nltk_data]    | Downloading package city_database to\n",
      "[nltk_data]    |     C:\\Users\\dwin3\\AppData\\Roaming\\nltk_data...\n",
      "[nltk_data]    |   Package city_database is already up-to-date!\n",
      "[nltk_data]    | Downloading package tagsets to\n",
      "[nltk_data]    |     C:\\Users\\dwin3\\AppData\\Roaming\\nltk_data...\n",
      "[nltk_data]    |   Package tagsets is already up-to-date!\n",
      "[nltk_data]    | Downloading package panlex_swadesh to\n",
      "[nltk_data]    |     C:\\Users\\dwin3\\AppData\\Roaming\\nltk_data...\n",
      "[nltk_data]    |   Package panlex_swadesh is already up-to-date!\n",
      "[nltk_data]    | Downloading package averaged_perceptron_tagger to\n",
      "[nltk_data]    |     C:\\Users\\dwin3\\AppData\\Roaming\\nltk_data...\n",
      "[nltk_data]    |   Package averaged_perceptron_tagger is already up-\n",
      "[nltk_data]    |       to-date!\n",
      "[nltk_data]    | \n",
      "[nltk_data]  Done downloading collection book\n"
     ]
    },
    {
     "ename": "NameError",
     "evalue": "name 'brown_corpus' is not defined",
     "output_type": "error",
     "traceback": [
      "\u001b[1;31m---------------------------------------------------------------------------\u001b[0m",
      "\u001b[1;31mNameError\u001b[0m                                 Traceback (most recent call last)",
      "\u001b[1;32m~\\AppData\\Local\\Temp/ipykernel_15920/2073113892.py\u001b[0m in \u001b[0;36m<module>\u001b[1;34m\u001b[0m\n\u001b[0;32m      2\u001b[0m \u001b[0mnltk\u001b[0m\u001b[1;33m.\u001b[0m\u001b[0mdownload\u001b[0m\u001b[1;33m(\u001b[0m\u001b[1;34m'book'\u001b[0m\u001b[1;33m)\u001b[0m\u001b[1;33m\u001b[0m\u001b[1;33m\u001b[0m\u001b[0m\n\u001b[0;32m      3\u001b[0m \u001b[1;33m\u001b[0m\u001b[0m\n\u001b[1;32m----> 4\u001b[1;33m \u001b[0mhumor\u001b[0m \u001b[1;33m=\u001b[0m \u001b[0mbrown_corpus\u001b[0m\u001b[1;33m.\u001b[0m\u001b[0mwords\u001b[0m\u001b[1;33m(\u001b[0m\u001b[0mcategories\u001b[0m\u001b[1;33m=\u001b[0m\u001b[1;34m'humor'\u001b[0m\u001b[1;33m)\u001b[0m\u001b[1;33m\u001b[0m\u001b[1;33m\u001b[0m\u001b[0m\n\u001b[0m\u001b[0;32m      5\u001b[0m \u001b[1;33m\u001b[0m\u001b[0m\n\u001b[0;32m      6\u001b[0m \u001b[0mmodals\u001b[0m \u001b[1;33m=\u001b[0m \u001b[1;33m[\u001b[0m\u001b[1;34m'can'\u001b[0m\u001b[1;33m,\u001b[0m\u001b[1;34m'could'\u001b[0m\u001b[1;33m,\u001b[0m\u001b[1;34m'may'\u001b[0m\u001b[1;33m,\u001b[0m\u001b[1;34m'might'\u001b[0m\u001b[1;33m,\u001b[0m\u001b[1;34m'will'\u001b[0m\u001b[1;33m,\u001b[0m\u001b[1;34m'would'\u001b[0m\u001b[1;33m]\u001b[0m\u001b[1;33m\u001b[0m\u001b[1;33m\u001b[0m\u001b[0m\n",
      "\u001b[1;31mNameError\u001b[0m: name 'brown_corpus' is not defined"
     ]
    }
   ],
   "source": [
    "from nltk.book import *\n",
    "nltk.download('book')\n",
    "\n",
    "humor = brown_corpus.words(categories='humor')\n",
    "\n",
    "modals = ['can','could','may','might','will','would']\n",
    "\n",
    "fdist_brown = nltk.FreqDist([w.lower() for w in humor])\n",
    "\n",
    "for verb in modals :\n",
    "    print(verb, fdist_brown[verb])"
   ]
  },
  {
   "cell_type": "code",
   "execution_count": null,
   "id": "d3add7f1-f524-476b-8bbf-dbd0fa86579c",
   "metadata": {},
   "outputs": [],
   "source": []
  }
 ],
 "metadata": {
  "kernelspec": {
   "display_name": "Python 3 (ipykernel)",
   "language": "python",
   "name": "python3"
  },
  "language_info": {
   "codemirror_mode": {
    "name": "ipython",
    "version": 3
   },
   "file_extension": ".py",
   "mimetype": "text/x-python",
   "name": "python",
   "nbconvert_exporter": "python",
   "pygments_lexer": "ipython3",
   "version": "3.9.7"
  }
 },
 "nbformat": 4,
 "nbformat_minor": 5
}
